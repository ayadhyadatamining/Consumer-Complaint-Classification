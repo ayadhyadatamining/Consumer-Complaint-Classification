{
 "cells": [
  {
   "cell_type": "markdown",
   "metadata": {
    "id": "j5Th7ytlyYLd"
   },
   "source": [
    "### Consumer complaint classification"
   ]
  },
  {
   "cell_type": "code",
   "execution_count": 1,
   "metadata": {
    "id": "syaBn2msz9qM"
   },
   "outputs": [],
   "source": [
    "import pandas as pd\n",
    "import numpy as np\n",
    "import matplotlib.pyplot as plt\n",
    "from sklearn.model_selection import train_test_split,cross_val_score"
   ]
  },
  {
   "cell_type": "code",
   "execution_count": 2,
   "metadata": {
    "id": "CaZq4c5Xz9qV"
   },
   "outputs": [],
   "source": [
    "df = pd.read_csv(\"Consumer_Complaints.csv\")"
   ]
  },
  {
   "cell_type": "code",
   "execution_count": 3,
   "metadata": {
    "id": "lXlL1IMkz9qW"
   },
   "outputs": [
    {
     "data": {
      "text/html": [
       "<div>\n",
       "<style scoped>\n",
       "    .dataframe tbody tr th:only-of-type {\n",
       "        vertical-align: middle;\n",
       "    }\n",
       "\n",
       "    .dataframe tbody tr th {\n",
       "        vertical-align: top;\n",
       "    }\n",
       "\n",
       "    .dataframe thead th {\n",
       "        text-align: right;\n",
       "    }\n",
       "</style>\n",
       "<table border=\"1\" class=\"dataframe\">\n",
       "  <thead>\n",
       "    <tr style=\"text-align: right;\">\n",
       "      <th></th>\n",
       "      <th>Date received</th>\n",
       "      <th>Product</th>\n",
       "      <th>Sub-product</th>\n",
       "      <th>Issue</th>\n",
       "      <th>Sub-issue</th>\n",
       "      <th>Consumer Complaint</th>\n",
       "      <th>Company Public Response</th>\n",
       "      <th>Company</th>\n",
       "      <th>State</th>\n",
       "      <th>ZIP code</th>\n",
       "      <th>Tags</th>\n",
       "      <th>Consumer consent provided?</th>\n",
       "      <th>Submitted via</th>\n",
       "      <th>Date Sent to Company</th>\n",
       "      <th>Company Response to Consumer</th>\n",
       "      <th>Timely response?</th>\n",
       "      <th>Consumer disputed?</th>\n",
       "      <th>Complaint ID</th>\n",
       "    </tr>\n",
       "  </thead>\n",
       "  <tbody>\n",
       "    <tr>\n",
       "      <th>0</th>\n",
       "      <td>3/12/14</td>\n",
       "      <td>Mortgage</td>\n",
       "      <td>Other mortgage</td>\n",
       "      <td>Loan modification,collection,foreclosure</td>\n",
       "      <td>NaN</td>\n",
       "      <td>NaN</td>\n",
       "      <td>NaN</td>\n",
       "      <td>M&amp;T BANK CORPORATION</td>\n",
       "      <td>MI</td>\n",
       "      <td>48382</td>\n",
       "      <td>NaN</td>\n",
       "      <td>NaN</td>\n",
       "      <td>Referral</td>\n",
       "      <td>3/17/14</td>\n",
       "      <td>Closed with explanation</td>\n",
       "      <td>Yes</td>\n",
       "      <td>No</td>\n",
       "      <td>759217</td>\n",
       "    </tr>\n",
       "    <tr>\n",
       "      <th>1</th>\n",
       "      <td>10/1/16</td>\n",
       "      <td>Credit reporting</td>\n",
       "      <td>NaN</td>\n",
       "      <td>Incorrect information on credit report</td>\n",
       "      <td>Account status</td>\n",
       "      <td>I have outdated information on my credit repor...</td>\n",
       "      <td>Company has responded to the consumer and the ...</td>\n",
       "      <td>TRANSUNION INTERMEDIATE HOLDINGS, INC.</td>\n",
       "      <td>AL</td>\n",
       "      <td>352XX</td>\n",
       "      <td>NaN</td>\n",
       "      <td>Consent provided</td>\n",
       "      <td>Web</td>\n",
       "      <td>10/5/16</td>\n",
       "      <td>Closed with explanation</td>\n",
       "      <td>Yes</td>\n",
       "      <td>No</td>\n",
       "      <td>2141773</td>\n",
       "    </tr>\n",
       "    <tr>\n",
       "      <th>2</th>\n",
       "      <td>10/17/16</td>\n",
       "      <td>Consumer Loan</td>\n",
       "      <td>Vehicle loan</td>\n",
       "      <td>Managing the loan or lease</td>\n",
       "      <td>NaN</td>\n",
       "      <td>I purchased a new car on XXXX XXXX. The car de...</td>\n",
       "      <td>NaN</td>\n",
       "      <td>CITIZENS FINANCIAL GROUP, INC.</td>\n",
       "      <td>PA</td>\n",
       "      <td>177XX</td>\n",
       "      <td>Older American</td>\n",
       "      <td>Consent provided</td>\n",
       "      <td>Web</td>\n",
       "      <td>10/20/16</td>\n",
       "      <td>Closed with explanation</td>\n",
       "      <td>Yes</td>\n",
       "      <td>No</td>\n",
       "      <td>2163100</td>\n",
       "    </tr>\n",
       "    <tr>\n",
       "      <th>3</th>\n",
       "      <td>6/8/14</td>\n",
       "      <td>Credit card</td>\n",
       "      <td>NaN</td>\n",
       "      <td>Bankruptcy</td>\n",
       "      <td>NaN</td>\n",
       "      <td>NaN</td>\n",
       "      <td>NaN</td>\n",
       "      <td>AMERICAN EXPRESS COMPANY</td>\n",
       "      <td>ID</td>\n",
       "      <td>83854</td>\n",
       "      <td>Older American</td>\n",
       "      <td>NaN</td>\n",
       "      <td>Web</td>\n",
       "      <td>6/10/14</td>\n",
       "      <td>Closed with explanation</td>\n",
       "      <td>Yes</td>\n",
       "      <td>Yes</td>\n",
       "      <td>885638</td>\n",
       "    </tr>\n",
       "    <tr>\n",
       "      <th>4</th>\n",
       "      <td>9/13/14</td>\n",
       "      <td>Debt collection</td>\n",
       "      <td>Credit card</td>\n",
       "      <td>Communication tactics</td>\n",
       "      <td>Frequent or repeated calls</td>\n",
       "      <td>NaN</td>\n",
       "      <td>NaN</td>\n",
       "      <td>CITIBANK, N.A.</td>\n",
       "      <td>VA</td>\n",
       "      <td>23233</td>\n",
       "      <td>NaN</td>\n",
       "      <td>NaN</td>\n",
       "      <td>Web</td>\n",
       "      <td>9/13/14</td>\n",
       "      <td>Closed with explanation</td>\n",
       "      <td>Yes</td>\n",
       "      <td>Yes</td>\n",
       "      <td>1027760</td>\n",
       "    </tr>\n",
       "  </tbody>\n",
       "</table>\n",
       "</div>"
      ],
      "text/plain": [
       "  Date received           Product     Sub-product  \\\n",
       "0       3/12/14          Mortgage  Other mortgage   \n",
       "1       10/1/16  Credit reporting             NaN   \n",
       "2      10/17/16     Consumer Loan    Vehicle loan   \n",
       "3        6/8/14       Credit card             NaN   \n",
       "4       9/13/14   Debt collection     Credit card   \n",
       "\n",
       "                                      Issue                   Sub-issue  \\\n",
       "0  Loan modification,collection,foreclosure                         NaN   \n",
       "1    Incorrect information on credit report              Account status   \n",
       "2                Managing the loan or lease                         NaN   \n",
       "3                                Bankruptcy                         NaN   \n",
       "4                     Communication tactics  Frequent or repeated calls   \n",
       "\n",
       "                                  Consumer Complaint  \\\n",
       "0                                                NaN   \n",
       "1  I have outdated information on my credit repor...   \n",
       "2  I purchased a new car on XXXX XXXX. The car de...   \n",
       "3                                                NaN   \n",
       "4                                                NaN   \n",
       "\n",
       "                             Company Public Response  \\\n",
       "0                                                NaN   \n",
       "1  Company has responded to the consumer and the ...   \n",
       "2                                                NaN   \n",
       "3                                                NaN   \n",
       "4                                                NaN   \n",
       "\n",
       "                                  Company State ZIP code            Tags  \\\n",
       "0                    M&T BANK CORPORATION    MI    48382             NaN   \n",
       "1  TRANSUNION INTERMEDIATE HOLDINGS, INC.    AL    352XX             NaN   \n",
       "2          CITIZENS FINANCIAL GROUP, INC.    PA    177XX  Older American   \n",
       "3                AMERICAN EXPRESS COMPANY    ID    83854  Older American   \n",
       "4                          CITIBANK, N.A.    VA    23233             NaN   \n",
       "\n",
       "  Consumer consent provided? Submitted via Date Sent to Company  \\\n",
       "0                        NaN      Referral              3/17/14   \n",
       "1           Consent provided           Web              10/5/16   \n",
       "2           Consent provided           Web             10/20/16   \n",
       "3                        NaN           Web              6/10/14   \n",
       "4                        NaN           Web              9/13/14   \n",
       "\n",
       "  Company Response to Consumer Timely response? Consumer disputed?  \\\n",
       "0      Closed with explanation              Yes                 No   \n",
       "1      Closed with explanation              Yes                 No   \n",
       "2      Closed with explanation              Yes                 No   \n",
       "3      Closed with explanation              Yes                Yes   \n",
       "4      Closed with explanation              Yes                Yes   \n",
       "\n",
       "   Complaint ID  \n",
       "0        759217  \n",
       "1       2141773  \n",
       "2       2163100  \n",
       "3        885638  \n",
       "4       1027760  "
      ]
     },
     "execution_count": 3,
     "metadata": {},
     "output_type": "execute_result"
    }
   ],
   "source": [
    "df.head()"
   ]
  },
  {
   "cell_type": "code",
   "execution_count": 4,
   "metadata": {
    "id": "jOcrAR_wz9qX"
   },
   "outputs": [
    {
     "data": {
      "text/plain": [
       "(9999, 18)"
      ]
     },
     "execution_count": 4,
     "metadata": {},
     "output_type": "execute_result"
    }
   ],
   "source": [
    "df.shape"
   ]
  },
  {
   "cell_type": "code",
   "execution_count": 5,
   "metadata": {
    "id": "wtIhWQ-sz9qX"
   },
   "outputs": [],
   "source": [
    "col = ['Product', 'Consumer Complaint']\n",
    "df= df[col]"
   ]
  },
  {
   "cell_type": "code",
   "execution_count": 6,
   "metadata": {
    "id": "OsuKzKRXz9qY"
   },
   "outputs": [],
   "source": [
    "df= df[pd.notnull(df['Consumer Complaint'])]"
   ]
  },
  {
   "cell_type": "code",
   "execution_count": 7,
   "metadata": {
    "id": "qFCPGi7Nz9qY"
   },
   "outputs": [],
   "source": [
    "df.columns=['Product', 'Consumer_complaint']"
   ]
  },
  {
   "cell_type": "code",
   "execution_count": 8,
   "metadata": {
    "id": "Oj68RWwCz9qY"
   },
   "outputs": [],
   "source": [
    "df['category_id'] = df['Product'].factorize()[0]"
   ]
  },
  {
   "cell_type": "code",
   "execution_count": 9,
   "metadata": {
    "id": "8f44H68mz9qY"
   },
   "outputs": [],
   "source": [
    "cat_id_df = df[[\"Product\", \"category_id\"]].drop_duplicates().sort_values('category_id')"
   ]
  },
  {
   "cell_type": "code",
   "execution_count": 10,
   "metadata": {
    "id": "qscNmta6z9qZ"
   },
   "outputs": [],
   "source": [
    "cat_to_id = dict(cat_id_df.values)"
   ]
  },
  {
   "cell_type": "code",
   "execution_count": 11,
   "metadata": {
    "id": "IbfPRlk4z9qZ"
   },
   "outputs": [],
   "source": [
    "id_to_cat = dict(cat_id_df[['category_id','Product']].values)"
   ]
  },
  {
   "cell_type": "code",
   "execution_count": 12,
   "metadata": {
    "id": "bbBd8I5nz9qZ"
   },
   "outputs": [
    {
     "data": {
      "text/html": [
       "<div>\n",
       "<style scoped>\n",
       "    .dataframe tbody tr th:only-of-type {\n",
       "        vertical-align: middle;\n",
       "    }\n",
       "\n",
       "    .dataframe tbody tr th {\n",
       "        vertical-align: top;\n",
       "    }\n",
       "\n",
       "    .dataframe thead th {\n",
       "        text-align: right;\n",
       "    }\n",
       "</style>\n",
       "<table border=\"1\" class=\"dataframe\">\n",
       "  <thead>\n",
       "    <tr style=\"text-align: right;\">\n",
       "      <th></th>\n",
       "      <th>Product</th>\n",
       "      <th>Consumer_complaint</th>\n",
       "      <th>category_id</th>\n",
       "    </tr>\n",
       "  </thead>\n",
       "  <tbody>\n",
       "    <tr>\n",
       "      <th>1</th>\n",
       "      <td>Credit reporting</td>\n",
       "      <td>I have outdated information on my credit repor...</td>\n",
       "      <td>0</td>\n",
       "    </tr>\n",
       "    <tr>\n",
       "      <th>2</th>\n",
       "      <td>Consumer Loan</td>\n",
       "      <td>I purchased a new car on XXXX XXXX. The car de...</td>\n",
       "      <td>1</td>\n",
       "    </tr>\n",
       "    <tr>\n",
       "      <th>7</th>\n",
       "      <td>Credit reporting</td>\n",
       "      <td>An account on my credit report has a mistaken ...</td>\n",
       "      <td>0</td>\n",
       "    </tr>\n",
       "    <tr>\n",
       "      <th>12</th>\n",
       "      <td>Debt collection</td>\n",
       "      <td>This company refuses to provide me verificatio...</td>\n",
       "      <td>2</td>\n",
       "    </tr>\n",
       "    <tr>\n",
       "      <th>16</th>\n",
       "      <td>Debt collection</td>\n",
       "      <td>This complaint is in regards to Square Two Fin...</td>\n",
       "      <td>2</td>\n",
       "    </tr>\n",
       "  </tbody>\n",
       "</table>\n",
       "</div>"
      ],
      "text/plain": [
       "             Product                                 Consumer_complaint  \\\n",
       "1   Credit reporting  I have outdated information on my credit repor...   \n",
       "2      Consumer Loan  I purchased a new car on XXXX XXXX. The car de...   \n",
       "7   Credit reporting  An account on my credit report has a mistaken ...   \n",
       "12   Debt collection  This company refuses to provide me verificatio...   \n",
       "16   Debt collection  This complaint is in regards to Square Two Fin...   \n",
       "\n",
       "    category_id  \n",
       "1             0  \n",
       "2             1  \n",
       "7             0  \n",
       "12            2  \n",
       "16            2  "
      ]
     },
     "execution_count": 12,
     "metadata": {},
     "output_type": "execute_result"
    }
   ],
   "source": [
    "df.head()"
   ]
  },
  {
   "cell_type": "code",
   "execution_count": 13,
   "metadata": {
    "id": "ADeUeGaCz9qa"
   },
   "outputs": [
    {
     "data": {
      "text/plain": [
       "<Figure size 576x432 with 0 Axes>"
      ]
     },
     "metadata": {},
     "output_type": "display_data"
    }
   ],
   "source": [
    "fig = plt.figure(figsize= (8,6))"
   ]
  },
  {
   "cell_type": "code",
   "execution_count": 14,
   "metadata": {
    "id": "itVydsoKz9qa"
   },
   "outputs": [
    {
     "data": {
      "text/plain": [
       "<AxesSubplot:xlabel='Product'>"
      ]
     },
     "execution_count": 14,
     "metadata": {},
     "output_type": "execute_result"
    },
    {
     "data": {
      "image/png": "[encoded data removed]",
      "text/plain": [
       "<Figure size 432x288 with 1 Axes>"
      ]
     },
     "metadata": {
      "needs_background": "light"
     },
     "output_type": "display_data"
    }
   ],
   "source": [
    "df.groupby('Product').Consumer_complaint.count().plot.bar(ylim=0)"
   ]
  },
  {
   "cell_type": "code",
   "execution_count": 15,
   "metadata": {
    "id": "4wQAI_tmz9qa"
   },
   "outputs": [],
   "source": [
    "from sklearn.feature_extraction.text import TfidfVectorizer"
   ]
  },
  {
   "cell_type": "code",
   "execution_count": 16,
   "metadata": {
    "id": "g_hcAYj3z9qa"
   },
   "outputs": [],
   "source": [
    "tfidf = TfidfVectorizer(sublinear_tf= True, #use a logarithmic form for frequency\n",
    "                       min_df = 5, #minimum numbers of documents a word must be present in to be kept\n",
    "                       norm= 'l2', #ensure all our feature vectors have a euclidian norm of 1\n",
    "                       ngram_range= (1,2), #to indicate that we want to consider both unigrams and bigrams.\n",
    "                       stop_words ='english') #to remove all common pronouns to reduce the number of noisy features"
   ]
  },
  {
   "cell_type": "code",
   "execution_count": 17,
   "metadata": {
    "id": "T-iY9opBz9qb"
   },
   "outputs": [],
   "source": [
    "features = tfidf.fit_transform(df.Consumer_complaint).toarray()"
   ]
  },
  {
   "cell_type": "code",
   "execution_count": 18,
   "metadata": {
    "id": "ExRt0oxgz9qb"
   },
   "outputs": [
    {
     "data": {
      "text/plain": [
       "(2114, 6081)"
      ]
     },
     "execution_count": 18,
     "metadata": {},
     "output_type": "execute_result"
    }
   ],
   "source": [
    "labels = df.category_id\n",
    "features.shape"
   ]
  },
  {
   "cell_type": "code",
   "execution_count": 19,
   "metadata": {
    "id": "X998eeOdz9qb"
   },
   "outputs": [],
   "source": [
    "from sklearn.model_selection import train_test_split"
   ]
  },
  {
   "cell_type": "code",
   "execution_count": 20,
   "metadata": {
    "id": "S4pYYfWaz9qb"
   },
   "outputs": [],
   "source": [
    "X_train, X_test, y_train, y_test = train_test_split(df['Consumer_complaint'], df['Product'], random_state= 0)"
   ]
  },
  {
   "cell_type": "code",
   "execution_count": 21,
   "metadata": {
    "id": "4VDFOQ9Cz9qb"
   },
   "outputs": [],
   "source": [
    "from sklearn.feature_extraction.text import CountVectorizer"
   ]
  },
  {
   "cell_type": "code",
   "execution_count": 22,
   "metadata": {
    "id": "qeIwURBlz9qb"
   },
   "outputs": [],
   "source": [
    "count_vect = CountVectorizer()"
   ]
  },
  {
   "cell_type": "code",
   "execution_count": 23,
   "metadata": {
    "id": "uD2hwGBBz9qc"
   },
   "outputs": [],
   "source": [
    "from sklearn.feature_extraction.text import TfidfTransformer"
   ]
  },
  {
   "cell_type": "code",
   "execution_count": 24,
   "metadata": {
    "id": "xBk1nosUz9qc"
   },
   "outputs": [],
   "source": [
    "X_train_counts = count_vect.fit_transform(X_train)\n",
    "tfidf_transformer = TfidfTransformer()\n",
    "X_train_tfidf = tfidf_transformer.fit_transform(X_train_counts)"
   ]
  },
  {
   "cell_type": "markdown",
   "metadata": {
    "id": "TIoUMScDIQP2"
   },
   "source": [
    "### Model Building"
   ]
  },
  {
   "cell_type": "code",
   "execution_count": 25,
   "metadata": {
    "id": "zmDAho-Uz9qc"
   },
   "outputs": [],
   "source": [
    "from sklearn.svm import LinearSVC\n",
    "clf = LinearSVC().fit(X_train_tfidf, y_train)"
   ]
  },
  {
   "cell_type": "code",
   "execution_count": 26,
   "metadata": {
    "id": "5krFWmH7z9qc"
   },
   "outputs": [
    {
     "name": "stdout",
     "output_type": "stream",
     "text": [
      "['Credit reporting']\n"
     ]
    }
   ],
   "source": [
    "print(clf.predict(count_vect.transform(['I have outdated information on my credit repor'])))"
   ]
  },
  {
   "cell_type": "code",
   "execution_count": 27,
   "metadata": {
    "id": "elOPO0w8z9qc"
   },
   "outputs": [],
   "source": [
    "y_pred = clf.predict(count_vect.transform(X_test))"
   ]
  },
  {
   "cell_type": "code",
   "execution_count": 28,
   "metadata": {
    "id": "n-E9hk0tz9qd"
   },
   "outputs": [],
   "source": [
    "from sklearn import metrics"
   ]
  },
  {
   "cell_type": "code",
   "execution_count": 29,
   "metadata": {
    "id": "N2y8_1SJz9qd"
   },
   "outputs": [
    {
     "name": "stdout",
     "output_type": "stream",
     "text": [
      "                                                                              precision    recall  f1-score   support\n",
      "\n",
      "                                                     Bank account or service       0.60      0.80      0.69        44\n",
      "                                                               Consumer Loan       0.36      0.43      0.39        21\n",
      "                                                                 Credit card       0.69      0.78      0.73        72\n",
      "                                                            Credit reporting       0.70      0.87      0.77        91\n",
      "Credit reporting, credit repair services, or other personal consumer reports       0.00      0.00      0.00         2\n",
      "                                                             Debt collection       0.86      0.69      0.76       124\n",
      "                                                             Money transfers       0.20      0.09      0.13        11\n",
      "                                                                    Mortgage       0.86      0.89      0.88       113\n",
      "                                                     Other financial service       0.00      0.00      0.00         1\n",
      "                                                                 Payday loan       0.00      0.00      0.00         8\n",
      "                                                                Prepaid card       0.00      0.00      0.00         8\n",
      "                                                                Student loan       0.83      0.74      0.78        34\n",
      "\n",
      "                                                                    accuracy                           0.74       529\n",
      "                                                                   macro avg       0.43      0.44      0.43       529\n",
      "                                                                weighted avg       0.72      0.74      0.72       529\n",
      "\n"
     ]
    },
    {
     "name": "stderr",
     "output_type": "stream",
     "text": [
      "C:\\Users\\ABHISHEK\\anaconda3\\lib\\site-packages\\sklearn\\metrics\\_classification.py:1318: UndefinedMetricWarning: Precision and F-score are ill-defined and being set to 0.0 in labels with no predicted samples. Use `zero_division` parameter to control this behavior.\n",
      "  _warn_prf(average, modifier, msg_start, len(result))\n",
      "C:\\Users\\ABHISHEK\\anaconda3\\lib\\site-packages\\sklearn\\metrics\\_classification.py:1318: UndefinedMetricWarning: Precision and F-score are ill-defined and being set to 0.0 in labels with no predicted samples. Use `zero_division` parameter to control this behavior.\n",
      "  _warn_prf(average, modifier, msg_start, len(result))\n",
      "C:\\Users\\ABHISHEK\\anaconda3\\lib\\site-packages\\sklearn\\metrics\\_classification.py:1318: UndefinedMetricWarning: Precision and F-score are ill-defined and being set to 0.0 in labels with no predicted samples. Use `zero_division` parameter to control this behavior.\n",
      "  _warn_prf(average, modifier, msg_start, len(result))\n"
     ]
    }
   ],
   "source": [
    "print(metrics.classification_report(y_test,y_pred))"
   ]
  },
  {
   "cell_type": "code",
   "execution_count": 30,
   "metadata": {
    "id": "nlSh_ZYRz9qd"
   },
   "outputs": [],
   "source": [
    "from sklearn.pipeline import Pipeline"
   ]
  },
  {
   "cell_type": "code",
   "execution_count": 31,
   "metadata": {
    "id": "dCCgdOWmz9qd"
   },
   "outputs": [],
   "source": [
    "text_clf=Pipeline([('tf',TfidfVectorizer(sublinear_tf= True, \n",
    "                       min_df = 5, \n",
    "                       norm= 'l2', \n",
    "                       ngram_range= (1,2), \n",
    "                       stop_words ='english') ),\n",
    "                 ('clf',LinearSVC())])"
   ]
  },
  {
   "cell_type": "code",
   "execution_count": 32,
   "metadata": {
    "id": "Ddqp-XVTz9qd"
   },
   "outputs": [
    {
     "data": {
      "text/plain": [
       "Pipeline(steps=[('tf',\n",
       "                 TfidfVectorizer(min_df=5, ngram_range=(1, 2),\n",
       "                                 stop_words='english', sublinear_tf=True)),\n",
       "                ('clf', LinearSVC())])"
      ]
     },
     "execution_count": 32,
     "metadata": {},
     "output_type": "execute_result"
    }
   ],
   "source": [
    "text_clf.fit(X_train, y_train)"
   ]
  },
  {
   "cell_type": "code",
   "execution_count": 33,
   "metadata": {
    "id": "QMIwVs3Mz9qe"
   },
   "outputs": [
    {
     "data": {
      "text/plain": [
       "'Credit reporting'"
      ]
     },
     "execution_count": 33,
     "metadata": {},
     "output_type": "execute_result"
    }
   ],
   "source": [
    "text_clf.predict(['I have outdated information on my credit repor'])[0]"
   ]
  },
  {
   "cell_type": "code",
   "execution_count": 34,
   "metadata": {
    "id": "qznw4ri0xWA0"
   },
   "outputs": [
    {
     "name": "stderr",
     "output_type": "stream",
     "text": [
      "C:\\Users\\ABHISHEK\\anaconda3\\lib\\site-packages\\sklearn\\model_selection\\_split.py:676: UserWarning: The least populated class in y has only 1 members, which is less than n_splits=5.\n",
      "  warnings.warn(\n"
     ]
    },
    {
     "name": "stdout",
     "output_type": "stream",
     "text": [
      "0.7936908517350157\n"
     ]
    }
   ],
   "source": [
    "cv_results = cross_val_score(text_clf, \n",
    "                                 X_train, y_train, \n",
    "                                 cv=5,\n",
    "                                 scoring=\"accuracy\",\n",
    "                                 n_jobs=-1)\n",
    "print(np.mean(cv_results))"
   ]
  },
  {
   "cell_type": "code",
   "execution_count": 35,
   "metadata": {
    "id": "ofTRSPWnz9qe"
   },
   "outputs": [],
   "source": [
    "from sklearn.naive_bayes import BernoulliNB"
   ]
  },
  {
   "cell_type": "code",
   "execution_count": 36,
   "metadata": {
    "id": "T6nqDWpSz9qf"
   },
   "outputs": [],
   "source": [
    "mb=BernoulliNB()"
   ]
  },
  {
   "cell_type": "code",
   "execution_count": 37,
   "metadata": {
    "id": "mfG8mv3Bz9qg"
   },
   "outputs": [],
   "source": [
    "text_clf=Pipeline([('tf',TfidfVectorizer(sublinear_tf= True, \n",
    "                       min_df = 5, \n",
    "                       norm= 'l2', \n",
    "                       ngram_range= (1,2), \n",
    "                       stop_words ='english') ),\n",
    "                 ('clf',BernoulliNB())])"
   ]
  },
  {
   "cell_type": "code",
   "execution_count": 38,
   "metadata": {
    "id": "TbSvQdZ1z9qk"
   },
   "outputs": [
    {
     "data": {
      "text/plain": [
       "Pipeline(steps=[('tf',\n",
       "                 TfidfVectorizer(min_df=5, ngram_range=(1, 2),\n",
       "                                 stop_words='english', sublinear_tf=True)),\n",
       "                ('clf', BernoulliNB())])"
      ]
     },
     "execution_count": 38,
     "metadata": {},
     "output_type": "execute_result"
    }
   ],
   "source": [
    "text_clf.fit(X_train, y_train)"
   ]
  },
  {
   "cell_type": "code",
   "execution_count": 39,
   "metadata": {
    "id": "x5BztWuEz9qk"
   },
   "outputs": [
    {
     "data": {
      "text/plain": [
       "'Credit reporting'"
      ]
     },
     "execution_count": 39,
     "metadata": {},
     "output_type": "execute_result"
    }
   ],
   "source": [
    "text_clf.predict(['I have outdated information on my credit repor'])[0]"
   ]
  },
  {
   "cell_type": "code",
   "execution_count": 40,
   "metadata": {
    "id": "-Mx4T62Oz9ql"
   },
   "outputs": [],
   "source": [
    "y_pred=text_clf.predict(X_test)"
   ]
  },
  {
   "cell_type": "code",
   "execution_count": 41,
   "metadata": {
    "id": "zKubUxBPz9ql"
   },
   "outputs": [
    {
     "name": "stdout",
     "output_type": "stream",
     "text": [
      "                                                                              precision    recall  f1-score   support\n",
      "\n",
      "                                                     Bank account or service       0.71      0.55      0.62        44\n",
      "                                                               Consumer Loan       0.50      0.14      0.22        21\n",
      "                                                                 Credit card       0.69      0.60      0.64        72\n",
      "                                                            Credit reporting       0.60      0.92      0.73        91\n",
      "Credit reporting, credit repair services, or other personal consumer reports       0.00      0.00      0.00         2\n",
      "                                                             Debt collection       0.63      0.84      0.72       124\n",
      "                                                             Money transfers       0.00      0.00      0.00        11\n",
      "                                                                    Mortgage       0.87      0.76      0.81       113\n",
      "                                                     Other financial service       0.00      0.00      0.00         1\n",
      "                                                                 Payday loan       0.00      0.00      0.00         8\n",
      "                                                                Prepaid card       0.00      0.00      0.00         8\n",
      "                                                                Student loan       0.91      0.59      0.71        34\n",
      "\n",
      "                                                                    accuracy                           0.69       529\n",
      "                                                                   macro avg       0.41      0.37      0.37       529\n",
      "                                                                weighted avg       0.67      0.69      0.66       529\n",
      "\n"
     ]
    },
    {
     "name": "stderr",
     "output_type": "stream",
     "text": [
      "C:\\Users\\ABHISHEK\\anaconda3\\lib\\site-packages\\sklearn\\metrics\\_classification.py:1318: UndefinedMetricWarning: Precision and F-score are ill-defined and being set to 0.0 in labels with no predicted samples. Use `zero_division` parameter to control this behavior.\n",
      "  _warn_prf(average, modifier, msg_start, len(result))\n",
      "C:\\Users\\ABHISHEK\\anaconda3\\lib\\site-packages\\sklearn\\metrics\\_classification.py:1318: UndefinedMetricWarning: Precision and F-score are ill-defined and being set to 0.0 in labels with no predicted samples. Use `zero_division` parameter to control this behavior.\n",
      "  _warn_prf(average, modifier, msg_start, len(result))\n",
      "C:\\Users\\ABHISHEK\\anaconda3\\lib\\site-packages\\sklearn\\metrics\\_classification.py:1318: UndefinedMetricWarning: Precision and F-score are ill-defined and being set to 0.0 in labels with no predicted samples. Use `zero_division` parameter to control this behavior.\n",
      "  _warn_prf(average, modifier, msg_start, len(result))\n"
     ]
    }
   ],
   "source": [
    "print(metrics.classification_report(y_test,y_pred))"
   ]
  },
  {
   "cell_type": "code",
   "execution_count": 42,
   "metadata": {
    "id": "4QJLftR1xecR"
   },
   "outputs": [
    {
     "name": "stderr",
     "output_type": "stream",
     "text": [
      "C:\\Users\\ABHISHEK\\anaconda3\\lib\\site-packages\\sklearn\\model_selection\\_split.py:676: UserWarning: The least populated class in y has only 1 members, which is less than n_splits=5.\n",
      "  warnings.warn(\n"
     ]
    },
    {
     "name": "stdout",
     "output_type": "stream",
     "text": [
      "0.6580441640378549\n"
     ]
    }
   ],
   "source": [
    "cv_results = cross_val_score(text_clf, \n",
    "                                 X_train, y_train, \n",
    "                                 cv=5,\n",
    "                                 scoring=\"accuracy\",\n",
    "                                 n_jobs=-1)\n",
    "print(np.mean(cv_results))"
   ]
  },
  {
   "cell_type": "code",
   "execution_count": 43,
   "metadata": {
    "id": "BTPdHFFIz9ql"
   },
   "outputs": [],
   "source": [
    "from sklearn.tree import DecisionTreeClassifier"
   ]
  },
  {
   "cell_type": "code",
   "execution_count": 44,
   "metadata": {
    "id": "y3X4iFyCz9ql"
   },
   "outputs": [],
   "source": [
    "text_clf=Pipeline([('tf',TfidfVectorizer(sublinear_tf= True, \n",
    "                       min_df = 5, \n",
    "                       norm= 'l2', \n",
    "                       ngram_range= (1,2), \n",
    "                       stop_words ='english') ),\n",
    "                 ('clf',DecisionTreeClassifier())])"
   ]
  },
  {
   "cell_type": "code",
   "execution_count": 45,
   "metadata": {
    "id": "-TfQLUk2z9qm"
   },
   "outputs": [
    {
     "data": {
      "text/plain": [
       "Pipeline(steps=[('tf',\n",
       "                 TfidfVectorizer(min_df=5, ngram_range=(1, 2),\n",
       "                                 stop_words='english', sublinear_tf=True)),\n",
       "                ('clf', DecisionTreeClassifier())])"
      ]
     },
     "execution_count": 45,
     "metadata": {},
     "output_type": "execute_result"
    }
   ],
   "source": [
    "text_clf.fit(X_train, y_train)"
   ]
  },
  {
   "cell_type": "code",
   "execution_count": 46,
   "metadata": {
    "id": "cIE39Z1vz9qm"
   },
   "outputs": [
    {
     "data": {
      "text/plain": [
       "'Debt collection'"
      ]
     },
     "execution_count": 46,
     "metadata": {},
     "output_type": "execute_result"
    }
   ],
   "source": [
    "text_clf.predict(['I have outdated information on my credit repor'])[0]"
   ]
  },
  {
   "cell_type": "code",
   "execution_count": 47,
   "metadata": {
    "id": "RAxI3r15z9qm"
   },
   "outputs": [],
   "source": [
    "y_pred=text_clf.predict(X_test)"
   ]
  },
  {
   "cell_type": "code",
   "execution_count": 48,
   "metadata": {
    "id": "xGpnHHz-z9qm"
   },
   "outputs": [
    {
     "name": "stdout",
     "output_type": "stream",
     "text": [
      "                                                                              precision    recall  f1-score   support\n",
      "\n",
      "                                                     Bank account or service       0.32      0.55      0.41        44\n",
      "                                                               Consumer Loan       0.25      0.29      0.27        21\n",
      "                                                                 Credit card       0.68      0.64      0.66        72\n",
      "                                                 Credit card or prepaid card       0.00      0.00      0.00         0\n",
      "                                                            Credit reporting       0.64      0.74      0.69        91\n",
      "Credit reporting, credit repair services, or other personal consumer reports       0.00      0.00      0.00         2\n",
      "                                                             Debt collection       0.70      0.60      0.64       124\n",
      "                                                             Money transfers       0.00      0.00      0.00        11\n",
      "                                                                    Mortgage       0.78      0.78      0.78       113\n",
      "                                                     Other financial service       0.00      0.00      0.00         1\n",
      "                                                                 Payday loan       0.00      0.00      0.00         8\n",
      "                                                                Prepaid card       0.25      0.12      0.17         8\n",
      "                                                                Student loan       0.45      0.44      0.45        34\n",
      "\n",
      "                                                                    accuracy                           0.61       529\n",
      "                                                                   macro avg       0.31      0.32      0.31       529\n",
      "                                                                weighted avg       0.60      0.61      0.60       529\n",
      "\n"
     ]
    },
    {
     "name": "stderr",
     "output_type": "stream",
     "text": [
      "C:\\Users\\ABHISHEK\\anaconda3\\lib\\site-packages\\sklearn\\metrics\\_classification.py:1318: UndefinedMetricWarning: Precision and F-score are ill-defined and being set to 0.0 in labels with no predicted samples. Use `zero_division` parameter to control this behavior.\n",
      "  _warn_prf(average, modifier, msg_start, len(result))\n",
      "C:\\Users\\ABHISHEK\\anaconda3\\lib\\site-packages\\sklearn\\metrics\\_classification.py:1318: UndefinedMetricWarning: Recall and F-score are ill-defined and being set to 0.0 in labels with no true samples. Use `zero_division` parameter to control this behavior.\n",
      "  _warn_prf(average, modifier, msg_start, len(result))\n",
      "C:\\Users\\ABHISHEK\\anaconda3\\lib\\site-packages\\sklearn\\metrics\\_classification.py:1318: UndefinedMetricWarning: Precision and F-score are ill-defined and being set to 0.0 in labels with no predicted samples. Use `zero_division` parameter to control this behavior.\n",
      "  _warn_prf(average, modifier, msg_start, len(result))\n",
      "C:\\Users\\ABHISHEK\\anaconda3\\lib\\site-packages\\sklearn\\metrics\\_classification.py:1318: UndefinedMetricWarning: Recall and F-score are ill-defined and being set to 0.0 in labels with no true samples. Use `zero_division` parameter to control this behavior.\n",
      "  _warn_prf(average, modifier, msg_start, len(result))\n",
      "C:\\Users\\ABHISHEK\\anaconda3\\lib\\site-packages\\sklearn\\metrics\\_classification.py:1318: UndefinedMetricWarning: Precision and F-score are ill-defined and being set to 0.0 in labels with no predicted samples. Use `zero_division` parameter to control this behavior.\n",
      "  _warn_prf(average, modifier, msg_start, len(result))\n",
      "C:\\Users\\ABHISHEK\\anaconda3\\lib\\site-packages\\sklearn\\metrics\\_classification.py:1318: UndefinedMetricWarning: Recall and F-score are ill-defined and being set to 0.0 in labels with no true samples. Use `zero_division` parameter to control this behavior.\n",
      "  _warn_prf(average, modifier, msg_start, len(result))\n"
     ]
    }
   ],
   "source": [
    "print(metrics.classification_report(y_test,y_pred))"
   ]
  },
  {
   "cell_type": "code",
   "execution_count": 49,
   "metadata": {
    "id": "W_5Frbfyxl5J"
   },
   "outputs": [
    {
     "name": "stderr",
     "output_type": "stream",
     "text": [
      "C:\\Users\\ABHISHEK\\anaconda3\\lib\\site-packages\\sklearn\\model_selection\\_split.py:676: UserWarning: The least populated class in y has only 1 members, which is less than n_splits=5.\n",
      "  warnings.warn(\n"
     ]
    },
    {
     "name": "stdout",
     "output_type": "stream",
     "text": [
      "0.6138801261829653\n"
     ]
    }
   ],
   "source": [
    "cv_results = cross_val_score(text_clf, \n",
    "                                 X_train, y_train, \n",
    "                                 cv=5,\n",
    "                                 scoring=\"accuracy\",\n",
    "                                 n_jobs=-1)\n",
    "print(np.mean(cv_results))"
   ]
  },
  {
   "cell_type": "code",
   "execution_count": 50,
   "metadata": {
    "id": "KorjEJue-Sti"
   },
   "outputs": [
    {
     "name": "stdout",
     "output_type": "stream",
     "text": [
      "Requirement already satisfied: catboost in c:\\users\\abhishek\\anaconda3\\lib\\site-packages (1.0.5)\n",
      "Requirement already satisfied: pandas>=0.24.0 in c:\\users\\abhishek\\anaconda3\\lib\\site-packages (from catboost) (1.2.4)\n",
      "Requirement already satisfied: matplotlib in c:\\users\\abhishek\\anaconda3\\lib\\site-packages (from catboost) (3.3.4)\n",
      "Requirement already satisfied: six in c:\\users\\abhishek\\anaconda3\\lib\\site-packages (from catboost) (1.15.0)\n",
      "Requirement already satisfied: numpy>=1.16.0 in c:\\users\\abhishek\\anaconda3\\lib\\site-packages (from catboost) (1.20.1)\n",
      "Requirement already satisfied: scipy in c:\\users\\abhishek\\anaconda3\\lib\\site-packages (from catboost) (1.8.0)\n",
      "Requirement already satisfied: plotly in c:\\users\\abhishek\\anaconda3\\lib\\site-packages (from catboost) (5.6.0)\n",
      "Requirement already satisfied: graphviz in c:\\users\\abhishek\\anaconda3\\lib\\site-packages (from catboost) (0.19.2)\n",
      "Requirement already satisfied: python-dateutil>=2.7.3 in c:\\users\\abhishek\\anaconda3\\lib\\site-packages (from pandas>=0.24.0->catboost) (2.7.5)\n",
      "Requirement already satisfied: pytz>=2017.3 in c:\\users\\abhishek\\anaconda3\\lib\\site-packages (from pandas>=0.24.0->catboost) (2021.1)\n",
      "Requirement already satisfied: kiwisolver>=1.0.1 in c:\\users\\abhishek\\anaconda3\\lib\\site-packages (from matplotlib->catboost) (1.3.1)\n",
      "Requirement already satisfied: pillow>=6.2.0 in c:\\users\\abhishek\\anaconda3\\lib\\site-packages (from matplotlib->catboost) (8.2.0)\n",
      "Requirement already satisfied: cycler>=0.10 in c:\\users\\abhishek\\anaconda3\\lib\\site-packages (from matplotlib->catboost) (0.10.0)\n",
      "Requirement already satisfied: pyparsing!=2.0.4,!=2.1.2,!=2.1.6,>=2.0.3 in c:\\users\\abhishek\\anaconda3\\lib\\site-packages (from matplotlib->catboost) (2.4.7)\n",
      "Requirement already satisfied: tenacity>=6.2.0 in c:\\users\\abhishek\\anaconda3\\lib\\site-packages (from plotly->catboost) (8.0.1)\n"
     ]
    }
   ],
   "source": [
    "!pip install catboost"
   ]
  },
  {
   "cell_type": "code",
   "execution_count": 51,
   "metadata": {
    "id": "CkjUijlFz9qm"
   },
   "outputs": [],
   "source": [
    "from catboost import CatBoostClassifier"
   ]
  },
  {
   "cell_type": "code",
   "execution_count": 52,
   "metadata": {
    "id": "30ifVE9Gz9qn"
   },
   "outputs": [],
   "source": [
    "text_clf=Pipeline([('tf',TfidfVectorizer(sublinear_tf= True, \n",
    "                       min_df = 5, \n",
    "                       norm= 'l2', \n",
    "                       ngram_range= (1,2), \n",
    "                       stop_words ='english') ),\n",
    "                 ('clf',CatBoostClassifier())])"
   ]
  },
  {
   "cell_type": "code",
   "execution_count": 53,
   "metadata": {
    "id": "O37ENgZEz9qn",
    "scrolled": true
   },
   "outputs": [
    {
     "name": "stdout",
     "output_type": "stream",
     "text": [
      "Learning rate set to 0.081007\n",
      "0:\tlearn: 2.4854640\ttotal: 1.36s\tremaining: 22m 36s\n",
      "1:\tlearn: 2.2831591\ttotal: 2.57s\tremaining: 21m 23s\n",
      "2:\tlearn: 2.1564614\ttotal: 3.77s\tremaining: 20m 54s\n",
      "3:\tlearn: 2.0605129\ttotal: 5.08s\tremaining: 21m 5s\n",
      "4:\tlearn: 1.9462300\ttotal: 6.29s\tremaining: 20m 51s\n",
      "5:\tlearn: 1.8610484\ttotal: 7.53s\tremaining: 20m 47s\n",
      "6:\tlearn: 1.7890315\ttotal: 8.75s\tremaining: 20m 41s\n",
      "7:\tlearn: 1.7248507\ttotal: 9.98s\tremaining: 20m 37s\n",
      "8:\tlearn: 1.6704831\ttotal: 11.2s\tremaining: 20m 31s\n",
      "9:\tlearn: 1.6290230\ttotal: 12.4s\tremaining: 20m 26s\n",
      "10:\tlearn: 1.5851092\ttotal: 13.6s\tremaining: 20m 23s\n",
      "11:\tlearn: 1.5387648\ttotal: 14.9s\tremaining: 20m 23s\n",
      "12:\tlearn: 1.5082813\ttotal: 16.1s\tremaining: 20m 20s\n",
      "13:\tlearn: 1.4703662\ttotal: 17.3s\tremaining: 20m 17s\n",
      "14:\tlearn: 1.4445402\ttotal: 18.5s\tremaining: 20m 14s\n",
      "15:\tlearn: 1.4213383\ttotal: 19.7s\tremaining: 20m 12s\n",
      "16:\tlearn: 1.3953513\ttotal: 20.9s\tremaining: 20m 10s\n",
      "17:\tlearn: 1.3735164\ttotal: 22.2s\tremaining: 20m 8s\n",
      "18:\tlearn: 1.3509443\ttotal: 23.4s\tremaining: 20m 7s\n",
      "19:\tlearn: 1.3306779\ttotal: 24.6s\tremaining: 20m 5s\n",
      "20:\tlearn: 1.3107340\ttotal: 25.8s\tremaining: 20m 4s\n",
      "21:\tlearn: 1.2888844\ttotal: 27.1s\tremaining: 20m 4s\n",
      "22:\tlearn: 1.2643441\ttotal: 28.4s\tremaining: 20m 5s\n",
      "23:\tlearn: 1.2482685\ttotal: 29.6s\tremaining: 20m 4s\n",
      "24:\tlearn: 1.2271506\ttotal: 30.9s\tremaining: 20m 3s\n",
      "25:\tlearn: 1.2063541\ttotal: 32.1s\tremaining: 20m 2s\n",
      "26:\tlearn: 1.1912904\ttotal: 33.3s\tremaining: 20m\n",
      "27:\tlearn: 1.1760266\ttotal: 34.6s\tremaining: 19m 59s\n",
      "28:\tlearn: 1.1648586\ttotal: 35.8s\tremaining: 19m 58s\n",
      "29:\tlearn: 1.1534765\ttotal: 37s\tremaining: 19m 57s\n",
      "30:\tlearn: 1.1436977\ttotal: 38.3s\tremaining: 19m 56s\n",
      "31:\tlearn: 1.1350923\ttotal: 39.5s\tremaining: 19m 54s\n",
      "32:\tlearn: 1.1242399\ttotal: 40.7s\tremaining: 19m 53s\n",
      "33:\tlearn: 1.1159885\ttotal: 42s\tremaining: 19m 52s\n",
      "34:\tlearn: 1.1079175\ttotal: 43.2s\tremaining: 19m 50s\n",
      "35:\tlearn: 1.0991047\ttotal: 44.4s\tremaining: 19m 49s\n",
      "36:\tlearn: 1.0928513\ttotal: 45.7s\tremaining: 19m 48s\n",
      "37:\tlearn: 1.0863576\ttotal: 46.9s\tremaining: 19m 47s\n",
      "38:\tlearn: 1.0783464\ttotal: 48.1s\tremaining: 19m 45s\n",
      "39:\tlearn: 1.0716513\ttotal: 49.4s\tremaining: 19m 44s\n",
      "40:\tlearn: 1.0648453\ttotal: 50.6s\tremaining: 19m 43s\n",
      "41:\tlearn: 1.0589708\ttotal: 51.8s\tremaining: 19m 42s\n",
      "42:\tlearn: 1.0541505\ttotal: 53.1s\tremaining: 19m 41s\n",
      "43:\tlearn: 1.0443814\ttotal: 54.3s\tremaining: 19m 39s\n",
      "44:\tlearn: 1.0367624\ttotal: 55.5s\tremaining: 19m 38s\n",
      "45:\tlearn: 1.0303077\ttotal: 56.8s\tremaining: 19m 37s\n",
      "46:\tlearn: 1.0230793\ttotal: 58s\tremaining: 19m 36s\n",
      "47:\tlearn: 1.0176074\ttotal: 59.3s\tremaining: 19m 35s\n",
      "48:\tlearn: 1.0143456\ttotal: 1m\tremaining: 19m 34s\n",
      "49:\tlearn: 1.0094720\ttotal: 1m 1s\tremaining: 19m 33s\n",
      "50:\tlearn: 1.0046385\ttotal: 1m 2s\tremaining: 19m 32s\n",
      "51:\tlearn: 1.0017752\ttotal: 1m 4s\tremaining: 19m 30s\n",
      "52:\tlearn: 0.9984884\ttotal: 1m 5s\tremaining: 19m 29s\n",
      "53:\tlearn: 0.9950373\ttotal: 1m 6s\tremaining: 19m 28s\n",
      "54:\tlearn: 0.9901153\ttotal: 1m 7s\tremaining: 19m 27s\n",
      "55:\tlearn: 0.9866299\ttotal: 1m 9s\tremaining: 19m 26s\n",
      "56:\tlearn: 0.9843810\ttotal: 1m 10s\tremaining: 19m 25s\n",
      "57:\tlearn: 0.9827648\ttotal: 1m 11s\tremaining: 19m 24s\n",
      "58:\tlearn: 0.9809374\ttotal: 1m 12s\tremaining: 19m 23s\n",
      "59:\tlearn: 0.9773165\ttotal: 1m 14s\tremaining: 19m 22s\n",
      "60:\tlearn: 0.9719917\ttotal: 1m 15s\tremaining: 19m 22s\n",
      "61:\tlearn: 0.9700710\ttotal: 1m 16s\tremaining: 19m 23s\n",
      "62:\tlearn: 0.9645634\ttotal: 1m 18s\tremaining: 19m 25s\n",
      "63:\tlearn: 0.9608152\ttotal: 1m 19s\tremaining: 19m 24s\n",
      "64:\tlearn: 0.9569786\ttotal: 1m 21s\tremaining: 19m 25s\n",
      "65:\tlearn: 0.9537289\ttotal: 1m 22s\tremaining: 19m 24s\n",
      "66:\tlearn: 0.9510569\ttotal: 1m 23s\tremaining: 19m 23s\n",
      "67:\tlearn: 0.9483097\ttotal: 1m 24s\tremaining: 19m 22s\n",
      "68:\tlearn: 0.9425183\ttotal: 1m 26s\tremaining: 19m 21s\n",
      "69:\tlearn: 0.9361814\ttotal: 1m 27s\tremaining: 19m 20s\n",
      "70:\tlearn: 0.9323581\ttotal: 1m 28s\tremaining: 19m 19s\n",
      "71:\tlearn: 0.9283958\ttotal: 1m 29s\tremaining: 19m 18s\n",
      "72:\tlearn: 0.9262238\ttotal: 1m 31s\tremaining: 19m 17s\n",
      "73:\tlearn: 0.9190218\ttotal: 1m 32s\tremaining: 19m 16s\n",
      "74:\tlearn: 0.9157283\ttotal: 1m 33s\tremaining: 19m 15s\n",
      "75:\tlearn: 0.9135173\ttotal: 1m 34s\tremaining: 19m 14s\n",
      "76:\tlearn: 0.9119289\ttotal: 1m 36s\tremaining: 19m 12s\n",
      "77:\tlearn: 0.9090277\ttotal: 1m 37s\tremaining: 19m 11s\n",
      "78:\tlearn: 0.9048167\ttotal: 1m 38s\tremaining: 19m 10s\n",
      "79:\tlearn: 0.9001523\ttotal: 1m 39s\tremaining: 19m 9s\n",
      "80:\tlearn: 0.8968576\ttotal: 1m 41s\tremaining: 19m 8s\n",
      "81:\tlearn: 0.8933656\ttotal: 1m 42s\tremaining: 19m 7s\n",
      "82:\tlearn: 0.8899386\ttotal: 1m 43s\tremaining: 19m 5s\n",
      "83:\tlearn: 0.8872973\ttotal: 1m 44s\tremaining: 19m 4s\n",
      "84:\tlearn: 0.8840036\ttotal: 1m 46s\tremaining: 19m 3s\n",
      "85:\tlearn: 0.8817108\ttotal: 1m 47s\tremaining: 19m 1s\n",
      "86:\tlearn: 0.8787014\ttotal: 1m 48s\tremaining: 19m\n",
      "87:\tlearn: 0.8758992\ttotal: 1m 49s\tremaining: 18m 59s\n",
      "88:\tlearn: 0.8713203\ttotal: 1m 51s\tremaining: 18m 58s\n",
      "89:\tlearn: 0.8674365\ttotal: 1m 52s\tremaining: 18m 56s\n",
      "90:\tlearn: 0.8641659\ttotal: 1m 53s\tremaining: 18m 55s\n",
      "91:\tlearn: 0.8614866\ttotal: 1m 54s\tremaining: 18m 54s\n",
      "92:\tlearn: 0.8607550\ttotal: 1m 56s\tremaining: 18m 53s\n",
      "93:\tlearn: 0.8579460\ttotal: 1m 57s\tremaining: 18m 52s\n",
      "94:\tlearn: 0.8572016\ttotal: 1m 58s\tremaining: 18m 51s\n",
      "95:\tlearn: 0.8544838\ttotal: 1m 59s\tremaining: 18m 49s\n",
      "96:\tlearn: 0.8515226\ttotal: 2m 1s\tremaining: 18m 48s\n",
      "97:\tlearn: 0.8496996\ttotal: 2m 2s\tremaining: 18m 47s\n",
      "98:\tlearn: 0.8441627\ttotal: 2m 3s\tremaining: 18m 46s\n",
      "99:\tlearn: 0.8421451\ttotal: 2m 5s\tremaining: 18m 45s\n",
      "100:\tlearn: 0.8408630\ttotal: 2m 6s\tremaining: 18m 44s\n",
      "101:\tlearn: 0.8394855\ttotal: 2m 7s\tremaining: 18m 43s\n",
      "102:\tlearn: 0.8372623\ttotal: 2m 8s\tremaining: 18m 42s\n",
      "103:\tlearn: 0.8360841\ttotal: 2m 10s\tremaining: 18m 40s\n",
      "104:\tlearn: 0.8347154\ttotal: 2m 11s\tremaining: 18m 39s\n",
      "105:\tlearn: 0.8313423\ttotal: 2m 12s\tremaining: 18m 38s\n",
      "106:\tlearn: 0.8268553\ttotal: 2m 13s\tremaining: 18m 37s\n",
      "107:\tlearn: 0.8241840\ttotal: 2m 15s\tremaining: 18m 36s\n",
      "108:\tlearn: 0.8220517\ttotal: 2m 16s\tremaining: 18m 34s\n",
      "109:\tlearn: 0.8206820\ttotal: 2m 17s\tremaining: 18m 33s\n",
      "110:\tlearn: 0.8188245\ttotal: 2m 18s\tremaining: 18m 32s\n",
      "111:\tlearn: 0.8165222\ttotal: 2m 20s\tremaining: 18m 30s\n",
      "112:\tlearn: 0.8135050\ttotal: 2m 21s\tremaining: 18m 30s\n",
      "113:\tlearn: 0.8111247\ttotal: 2m 22s\tremaining: 18m 28s\n",
      "114:\tlearn: 0.8107347\ttotal: 2m 23s\tremaining: 18m 27s\n",
      "115:\tlearn: 0.8099549\ttotal: 2m 25s\tremaining: 18m 28s\n",
      "116:\tlearn: 0.8075430\ttotal: 2m 27s\tremaining: 18m 29s\n",
      "117:\tlearn: 0.8050018\ttotal: 2m 28s\tremaining: 18m 30s\n",
      "118:\tlearn: 0.8033704\ttotal: 2m 29s\tremaining: 18m 29s\n",
      "119:\tlearn: 0.8018497\ttotal: 2m 31s\tremaining: 18m 30s\n",
      "120:\tlearn: 0.8001654\ttotal: 2m 32s\tremaining: 18m 30s\n",
      "121:\tlearn: 0.7994796\ttotal: 2m 34s\tremaining: 18m 31s\n",
      "122:\tlearn: 0.7973179\ttotal: 2m 36s\tremaining: 18m 33s\n",
      "123:\tlearn: 0.7958839\ttotal: 2m 38s\tremaining: 18m 36s\n",
      "124:\tlearn: 0.7948636\ttotal: 2m 39s\tremaining: 18m 39s\n",
      "125:\tlearn: 0.7933385\ttotal: 2m 42s\tremaining: 18m 46s\n",
      "126:\tlearn: 0.7927987\ttotal: 2m 44s\tremaining: 18m 48s\n",
      "127:\tlearn: 0.7899772\ttotal: 2m 46s\tremaining: 18m 51s\n",
      "128:\tlearn: 0.7892504\ttotal: 2m 47s\tremaining: 18m 53s\n",
      "129:\tlearn: 0.7877333\ttotal: 2m 49s\tremaining: 18m 55s\n",
      "130:\tlearn: 0.7869179\ttotal: 2m 51s\tremaining: 18m 55s\n",
      "131:\tlearn: 0.7848792\ttotal: 2m 52s\tremaining: 18m 55s\n",
      "132:\tlearn: 0.7839392\ttotal: 2m 54s\tremaining: 18m 54s\n",
      "133:\tlearn: 0.7827618\ttotal: 2m 55s\tremaining: 18m 53s\n",
      "134:\tlearn: 0.7805511\ttotal: 2m 56s\tremaining: 18m 51s\n",
      "135:\tlearn: 0.7778289\ttotal: 2m 57s\tremaining: 18m 50s\n",
      "136:\tlearn: 0.7770423\ttotal: 2m 59s\tremaining: 18m 48s\n",
      "137:\tlearn: 0.7744665\ttotal: 3m\tremaining: 18m 47s\n",
      "138:\tlearn: 0.7721353\ttotal: 3m 1s\tremaining: 18m 45s\n",
      "139:\tlearn: 0.7707321\ttotal: 3m 3s\tremaining: 18m 44s\n",
      "140:\tlearn: 0.7691956\ttotal: 3m 4s\tremaining: 18m 42s\n",
      "141:\tlearn: 0.7678478\ttotal: 3m 5s\tremaining: 18m 41s\n",
      "142:\tlearn: 0.7667817\ttotal: 3m 6s\tremaining: 18m 39s\n",
      "143:\tlearn: 0.7661838\ttotal: 3m 8s\tremaining: 18m 38s\n",
      "144:\tlearn: 0.7638730\ttotal: 3m 9s\tremaining: 18m 36s\n",
      "145:\tlearn: 0.7611925\ttotal: 3m 10s\tremaining: 18m 35s\n",
      "146:\tlearn: 0.7607908\ttotal: 3m 11s\tremaining: 18m 33s\n",
      "147:\tlearn: 0.7598458\ttotal: 3m 13s\tremaining: 18m 32s\n",
      "148:\tlearn: 0.7585279\ttotal: 3m 14s\tremaining: 18m 31s\n",
      "149:\tlearn: 0.7570061\ttotal: 3m 15s\tremaining: 18m 29s\n",
      "150:\tlearn: 0.7564146\ttotal: 3m 17s\tremaining: 18m 28s\n",
      "151:\tlearn: 0.7544475\ttotal: 3m 18s\tremaining: 18m 26s\n",
      "152:\tlearn: 0.7537299\ttotal: 3m 19s\tremaining: 18m 25s\n"
     ]
    },
    {
     "name": "stdout",
     "output_type": "stream",
     "text": [
      "153:\tlearn: 0.7530293\ttotal: 3m 20s\tremaining: 18m 23s\n",
      "154:\tlearn: 0.7525985\ttotal: 3m 22s\tremaining: 18m 22s\n",
      "155:\tlearn: 0.7510070\ttotal: 3m 23s\tremaining: 18m 20s\n",
      "156:\tlearn: 0.7498981\ttotal: 3m 24s\tremaining: 18m 19s\n",
      "157:\tlearn: 0.7489539\ttotal: 3m 26s\tremaining: 18m 17s\n",
      "158:\tlearn: 0.7481149\ttotal: 3m 27s\tremaining: 18m 16s\n",
      "159:\tlearn: 0.7451465\ttotal: 3m 28s\tremaining: 18m 15s\n",
      "160:\tlearn: 0.7444409\ttotal: 3m 29s\tremaining: 18m 13s\n",
      "161:\tlearn: 0.7428568\ttotal: 3m 31s\tremaining: 18m 11s\n",
      "162:\tlearn: 0.7417085\ttotal: 3m 32s\tremaining: 18m 10s\n",
      "163:\tlearn: 0.7412448\ttotal: 3m 33s\tremaining: 18m 9s\n",
      "164:\tlearn: 0.7378078\ttotal: 3m 34s\tremaining: 18m 7s\n",
      "165:\tlearn: 0.7374767\ttotal: 3m 36s\tremaining: 18m 5s\n",
      "166:\tlearn: 0.7369168\ttotal: 3m 37s\tremaining: 18m 4s\n",
      "167:\tlearn: 0.7361064\ttotal: 3m 38s\tremaining: 18m 2s\n",
      "168:\tlearn: 0.7351648\ttotal: 3m 39s\tremaining: 18m 1s\n",
      "169:\tlearn: 0.7334652\ttotal: 3m 41s\tremaining: 17m 59s\n",
      "170:\tlearn: 0.7331014\ttotal: 3m 42s\tremaining: 17m 58s\n",
      "171:\tlearn: 0.7321712\ttotal: 3m 43s\tremaining: 17m 57s\n",
      "172:\tlearn: 0.7308025\ttotal: 3m 45s\tremaining: 17m 55s\n",
      "173:\tlearn: 0.7299474\ttotal: 3m 46s\tremaining: 17m 54s\n",
      "174:\tlearn: 0.7296031\ttotal: 3m 47s\tremaining: 17m 52s\n",
      "175:\tlearn: 0.7282592\ttotal: 3m 48s\tremaining: 17m 51s\n",
      "176:\tlearn: 0.7278057\ttotal: 3m 50s\tremaining: 17m 49s\n",
      "177:\tlearn: 0.7273493\ttotal: 3m 51s\tremaining: 17m 48s\n",
      "178:\tlearn: 0.7261421\ttotal: 3m 52s\tremaining: 17m 47s\n",
      "179:\tlearn: 0.7250592\ttotal: 3m 53s\tremaining: 17m 45s\n",
      "180:\tlearn: 0.7246261\ttotal: 3m 55s\tremaining: 17m 44s\n",
      "181:\tlearn: 0.7235220\ttotal: 3m 56s\tremaining: 17m 43s\n",
      "182:\tlearn: 0.7228321\ttotal: 3m 57s\tremaining: 17m 42s\n",
      "183:\tlearn: 0.7212818\ttotal: 3m 59s\tremaining: 17m 41s\n",
      "184:\tlearn: 0.7206582\ttotal: 4m\tremaining: 17m 39s\n",
      "185:\tlearn: 0.7201708\ttotal: 4m 1s\tremaining: 17m 38s\n",
      "186:\tlearn: 0.7189709\ttotal: 4m 3s\tremaining: 17m 36s\n",
      "187:\tlearn: 0.7176364\ttotal: 4m 4s\tremaining: 17m 35s\n",
      "188:\tlearn: 0.7170201\ttotal: 4m 5s\tremaining: 17m 34s\n",
      "189:\tlearn: 0.7152001\ttotal: 4m 7s\tremaining: 17m 33s\n",
      "190:\tlearn: 0.7143043\ttotal: 4m 8s\tremaining: 17m 31s\n",
      "191:\tlearn: 0.7129504\ttotal: 4m 9s\tremaining: 17m 30s\n",
      "192:\tlearn: 0.7123692\ttotal: 4m 10s\tremaining: 17m 29s\n",
      "193:\tlearn: 0.7118066\ttotal: 4m 12s\tremaining: 17m 27s\n",
      "194:\tlearn: 0.7101444\ttotal: 4m 13s\tremaining: 17m 26s\n",
      "195:\tlearn: 0.7097543\ttotal: 4m 14s\tremaining: 17m 24s\n",
      "196:\tlearn: 0.7084416\ttotal: 4m 16s\tremaining: 17m 23s\n",
      "197:\tlearn: 0.7079530\ttotal: 4m 17s\tremaining: 17m 22s\n",
      "198:\tlearn: 0.7072096\ttotal: 4m 18s\tremaining: 17m 20s\n",
      "199:\tlearn: 0.7069073\ttotal: 4m 19s\tremaining: 17m 19s\n",
      "200:\tlearn: 0.7066389\ttotal: 4m 21s\tremaining: 17m 17s\n",
      "201:\tlearn: 0.7062889\ttotal: 4m 22s\tremaining: 17m 16s\n",
      "202:\tlearn: 0.7059370\ttotal: 4m 23s\tremaining: 17m 15s\n",
      "203:\tlearn: 0.7047781\ttotal: 4m 24s\tremaining: 17m 13s\n",
      "204:\tlearn: 0.7040312\ttotal: 4m 26s\tremaining: 17m 12s\n",
      "205:\tlearn: 0.7028235\ttotal: 4m 27s\tremaining: 17m 10s\n",
      "206:\tlearn: 0.7012308\ttotal: 4m 28s\tremaining: 17m 9s\n",
      "207:\tlearn: 0.6994092\ttotal: 4m 30s\tremaining: 17m 8s\n",
      "208:\tlearn: 0.6990078\ttotal: 4m 31s\tremaining: 17m 6s\n",
      "209:\tlearn: 0.6971167\ttotal: 4m 32s\tremaining: 17m 5s\n",
      "210:\tlearn: 0.6957416\ttotal: 4m 33s\tremaining: 17m 4s\n",
      "211:\tlearn: 0.6947498\ttotal: 4m 35s\tremaining: 17m 2s\n",
      "212:\tlearn: 0.6943754\ttotal: 4m 36s\tremaining: 17m 1s\n",
      "213:\tlearn: 0.6936615\ttotal: 4m 37s\tremaining: 16m 59s\n",
      "214:\tlearn: 0.6924659\ttotal: 4m 38s\tremaining: 16m 58s\n",
      "215:\tlearn: 0.6916510\ttotal: 4m 40s\tremaining: 16m 57s\n",
      "216:\tlearn: 0.6900645\ttotal: 4m 41s\tremaining: 16m 55s\n",
      "217:\tlearn: 0.6895890\ttotal: 4m 42s\tremaining: 16m 54s\n",
      "218:\tlearn: 0.6890680\ttotal: 4m 44s\tremaining: 16m 54s\n",
      "219:\tlearn: 0.6883548\ttotal: 4m 45s\tremaining: 16m 53s\n",
      "220:\tlearn: 0.6875448\ttotal: 4m 47s\tremaining: 16m 52s\n",
      "221:\tlearn: 0.6868566\ttotal: 4m 48s\tremaining: 16m 51s\n",
      "222:\tlearn: 0.6847041\ttotal: 4m 50s\tremaining: 16m 51s\n",
      "223:\tlearn: 0.6844422\ttotal: 4m 51s\tremaining: 16m 51s\n",
      "224:\tlearn: 0.6835682\ttotal: 4m 53s\tremaining: 16m 50s\n",
      "225:\tlearn: 0.6826581\ttotal: 4m 54s\tremaining: 16m 49s\n",
      "226:\tlearn: 0.6813788\ttotal: 4m 56s\tremaining: 16m 48s\n",
      "227:\tlearn: 0.6810038\ttotal: 4m 57s\tremaining: 16m 47s\n",
      "228:\tlearn: 0.6805304\ttotal: 4m 58s\tremaining: 16m 46s\n",
      "229:\tlearn: 0.6780705\ttotal: 5m\tremaining: 16m 46s\n",
      "230:\tlearn: 0.6776405\ttotal: 5m 1s\tremaining: 16m 45s\n",
      "231:\tlearn: 0.6772432\ttotal: 5m 3s\tremaining: 16m 44s\n",
      "232:\tlearn: 0.6766758\ttotal: 5m 4s\tremaining: 16m 43s\n",
      "233:\tlearn: 0.6757204\ttotal: 5m 6s\tremaining: 16m 43s\n",
      "234:\tlearn: 0.6753329\ttotal: 5m 8s\tremaining: 16m 43s\n",
      "235:\tlearn: 0.6750063\ttotal: 5m 9s\tremaining: 16m 42s\n",
      "236:\tlearn: 0.6747900\ttotal: 5m 11s\tremaining: 16m 42s\n",
      "237:\tlearn: 0.6735017\ttotal: 5m 12s\tremaining: 16m 41s\n",
      "238:\tlearn: 0.6728191\ttotal: 5m 14s\tremaining: 16m 40s\n",
      "239:\tlearn: 0.6716119\ttotal: 5m 15s\tremaining: 16m 39s\n",
      "240:\tlearn: 0.6712006\ttotal: 5m 17s\tremaining: 16m 39s\n",
      "241:\tlearn: 0.6701211\ttotal: 5m 18s\tremaining: 16m 37s\n",
      "242:\tlearn: 0.6693369\ttotal: 5m 19s\tremaining: 16m 36s\n",
      "243:\tlearn: 0.6686758\ttotal: 5m 21s\tremaining: 16m 35s\n",
      "244:\tlearn: 0.6683755\ttotal: 5m 22s\tremaining: 16m 34s\n",
      "245:\tlearn: 0.6682087\ttotal: 5m 24s\tremaining: 16m 33s\n",
      "246:\tlearn: 0.6663874\ttotal: 5m 25s\tremaining: 16m 32s\n",
      "247:\tlearn: 0.6639255\ttotal: 5m 26s\tremaining: 16m 31s\n",
      "248:\tlearn: 0.6635794\ttotal: 5m 28s\tremaining: 16m 30s\n",
      "249:\tlearn: 0.6623151\ttotal: 5m 29s\tremaining: 16m 29s\n",
      "250:\tlearn: 0.6611009\ttotal: 5m 31s\tremaining: 16m 28s\n",
      "251:\tlearn: 0.6598956\ttotal: 5m 32s\tremaining: 16m 27s\n",
      "252:\tlearn: 0.6593517\ttotal: 5m 33s\tremaining: 16m 25s\n",
      "253:\tlearn: 0.6585821\ttotal: 5m 35s\tremaining: 16m 24s\n",
      "254:\tlearn: 0.6581423\ttotal: 5m 36s\tremaining: 16m 23s\n",
      "255:\tlearn: 0.6575425\ttotal: 5m 38s\tremaining: 16m 22s\n",
      "256:\tlearn: 0.6571494\ttotal: 5m 39s\tremaining: 16m 21s\n",
      "257:\tlearn: 0.6551413\ttotal: 5m 40s\tremaining: 16m 20s\n",
      "258:\tlearn: 0.6543374\ttotal: 5m 42s\tremaining: 16m 18s\n",
      "259:\tlearn: 0.6532802\ttotal: 5m 43s\tremaining: 16m 17s\n",
      "260:\tlearn: 0.6505496\ttotal: 5m 44s\tremaining: 16m 16s\n",
      "261:\tlearn: 0.6502802\ttotal: 5m 46s\tremaining: 16m 15s\n",
      "262:\tlearn: 0.6496986\ttotal: 5m 47s\tremaining: 16m 13s\n",
      "263:\tlearn: 0.6493307\ttotal: 5m 48s\tremaining: 16m 12s\n",
      "264:\tlearn: 0.6489764\ttotal: 5m 50s\tremaining: 16m 11s\n",
      "265:\tlearn: 0.6483907\ttotal: 5m 51s\tremaining: 16m 10s\n",
      "266:\tlearn: 0.6479021\ttotal: 5m 52s\tremaining: 16m 8s\n",
      "267:\tlearn: 0.6475665\ttotal: 5m 54s\tremaining: 16m 7s\n",
      "268:\tlearn: 0.6471360\ttotal: 5m 55s\tremaining: 16m 6s\n",
      "269:\tlearn: 0.6465027\ttotal: 5m 56s\tremaining: 16m 5s\n",
      "270:\tlearn: 0.6461498\ttotal: 5m 58s\tremaining: 16m 3s\n",
      "271:\tlearn: 0.6451678\ttotal: 5m 59s\tremaining: 16m 2s\n",
      "272:\tlearn: 0.6448388\ttotal: 6m 1s\tremaining: 16m 1s\n",
      "273:\tlearn: 0.6431996\ttotal: 6m 2s\tremaining: 16m\n",
      "274:\tlearn: 0.6416970\ttotal: 6m 3s\tremaining: 15m 59s\n",
      "275:\tlearn: 0.6414907\ttotal: 6m 5s\tremaining: 15m 58s\n",
      "276:\tlearn: 0.6410184\ttotal: 6m 6s\tremaining: 15m 57s\n",
      "277:\tlearn: 0.6403996\ttotal: 6m 8s\tremaining: 15m 56s\n",
      "278:\tlearn: 0.6399218\ttotal: 6m 9s\tremaining: 15m 55s\n",
      "279:\tlearn: 0.6384569\ttotal: 6m 11s\tremaining: 15m 54s\n",
      "280:\tlearn: 0.6371050\ttotal: 6m 12s\tremaining: 15m 52s\n",
      "281:\tlearn: 0.6368474\ttotal: 6m 13s\tremaining: 15m 51s\n",
      "282:\tlearn: 0.6365380\ttotal: 6m 15s\tremaining: 15m 50s\n",
      "283:\tlearn: 0.6359044\ttotal: 6m 16s\tremaining: 15m 49s\n",
      "284:\tlearn: 0.6356690\ttotal: 6m 18s\tremaining: 15m 48s\n",
      "285:\tlearn: 0.6352692\ttotal: 6m 19s\tremaining: 15m 47s\n",
      "286:\tlearn: 0.6349848\ttotal: 6m 20s\tremaining: 15m 46s\n",
      "287:\tlearn: 0.6343799\ttotal: 6m 22s\tremaining: 15m 45s\n",
      "288:\tlearn: 0.6339075\ttotal: 6m 23s\tremaining: 15m 44s\n",
      "289:\tlearn: 0.6332625\ttotal: 6m 25s\tremaining: 15m 43s\n",
      "290:\tlearn: 0.6330092\ttotal: 6m 26s\tremaining: 15m 42s\n",
      "291:\tlearn: 0.6328156\ttotal: 6m 28s\tremaining: 15m 40s\n",
      "292:\tlearn: 0.6323283\ttotal: 6m 29s\tremaining: 15m 40s\n",
      "293:\tlearn: 0.6311011\ttotal: 6m 31s\tremaining: 15m 39s\n",
      "294:\tlearn: 0.6308539\ttotal: 6m 32s\tremaining: 15m 38s\n",
      "295:\tlearn: 0.6304980\ttotal: 6m 33s\tremaining: 15m 37s\n",
      "296:\tlearn: 0.6301578\ttotal: 6m 35s\tremaining: 15m 35s\n",
      "297:\tlearn: 0.6297255\ttotal: 6m 36s\tremaining: 15m 34s\n",
      "298:\tlearn: 0.6293409\ttotal: 6m 38s\tremaining: 15m 33s\n",
      "299:\tlearn: 0.6283704\ttotal: 6m 39s\tremaining: 15m 32s\n",
      "300:\tlearn: 0.6276440\ttotal: 6m 40s\tremaining: 15m 30s\n",
      "301:\tlearn: 0.6274650\ttotal: 6m 42s\tremaining: 15m 29s\n",
      "302:\tlearn: 0.6272038\ttotal: 6m 43s\tremaining: 15m 28s\n"
     ]
    },
    {
     "name": "stdout",
     "output_type": "stream",
     "text": [
      "303:\tlearn: 0.6268656\ttotal: 6m 45s\tremaining: 15m 27s\n",
      "304:\tlearn: 0.6256321\ttotal: 6m 46s\tremaining: 15m 27s\n",
      "305:\tlearn: 0.6233371\ttotal: 6m 48s\tremaining: 15m 26s\n",
      "306:\tlearn: 0.6230659\ttotal: 6m 50s\tremaining: 15m 25s\n",
      "307:\tlearn: 0.6228915\ttotal: 6m 51s\tremaining: 15m 24s\n",
      "308:\tlearn: 0.6224458\ttotal: 6m 53s\tremaining: 15m 24s\n",
      "309:\tlearn: 0.6217015\ttotal: 6m 54s\tremaining: 15m 23s\n",
      "310:\tlearn: 0.6214223\ttotal: 6m 56s\tremaining: 15m 22s\n",
      "311:\tlearn: 0.6212131\ttotal: 6m 58s\tremaining: 15m 22s\n",
      "312:\tlearn: 0.6209477\ttotal: 7m\tremaining: 15m 22s\n",
      "313:\tlearn: 0.6206643\ttotal: 7m 1s\tremaining: 15m 21s\n",
      "314:\tlearn: 0.6204832\ttotal: 7m 3s\tremaining: 15m 21s\n",
      "315:\tlearn: 0.6201228\ttotal: 7m 5s\tremaining: 15m 20s\n",
      "316:\tlearn: 0.6198125\ttotal: 7m 6s\tremaining: 15m 19s\n",
      "317:\tlearn: 0.6191932\ttotal: 7m 8s\tremaining: 15m 19s\n",
      "318:\tlearn: 0.6185327\ttotal: 7m 10s\tremaining: 15m 18s\n",
      "319:\tlearn: 0.6182441\ttotal: 7m 11s\tremaining: 15m 17s\n",
      "320:\tlearn: 0.6170650\ttotal: 7m 13s\tremaining: 15m 17s\n",
      "321:\tlearn: 0.6167615\ttotal: 7m 15s\tremaining: 15m 16s\n",
      "322:\tlearn: 0.6164124\ttotal: 7m 16s\tremaining: 15m 15s\n",
      "323:\tlearn: 0.6155035\ttotal: 7m 18s\tremaining: 15m 15s\n",
      "324:\tlearn: 0.6150762\ttotal: 7m 20s\tremaining: 15m 14s\n",
      "325:\tlearn: 0.6147879\ttotal: 7m 22s\tremaining: 15m 14s\n",
      "326:\tlearn: 0.6145871\ttotal: 7m 23s\tremaining: 15m 13s\n",
      "327:\tlearn: 0.6131651\ttotal: 7m 25s\tremaining: 15m 13s\n",
      "328:\tlearn: 0.6129396\ttotal: 7m 27s\tremaining: 15m 12s\n",
      "329:\tlearn: 0.6123704\ttotal: 7m 28s\tremaining: 15m 11s\n",
      "330:\tlearn: 0.6120845\ttotal: 7m 30s\tremaining: 15m 10s\n",
      "331:\tlearn: 0.6116899\ttotal: 7m 32s\tremaining: 15m 10s\n",
      "332:\tlearn: 0.6114623\ttotal: 7m 33s\tremaining: 15m 9s\n",
      "333:\tlearn: 0.6112182\ttotal: 7m 35s\tremaining: 15m 8s\n",
      "334:\tlearn: 0.6108488\ttotal: 7m 37s\tremaining: 15m 7s\n",
      "335:\tlearn: 0.6104592\ttotal: 7m 38s\tremaining: 15m 6s\n",
      "336:\tlearn: 0.6100374\ttotal: 7m 40s\tremaining: 15m 5s\n",
      "337:\tlearn: 0.6095482\ttotal: 7m 41s\tremaining: 15m 4s\n",
      "338:\tlearn: 0.6091213\ttotal: 7m 43s\tremaining: 15m 3s\n",
      "339:\tlearn: 0.6084528\ttotal: 7m 45s\tremaining: 15m 2s\n",
      "340:\tlearn: 0.6080993\ttotal: 7m 46s\tremaining: 15m 1s\n",
      "341:\tlearn: 0.6079334\ttotal: 7m 48s\tremaining: 15m\n",
      "342:\tlearn: 0.6076306\ttotal: 7m 49s\tremaining: 14m 59s\n",
      "343:\tlearn: 0.6073107\ttotal: 7m 51s\tremaining: 14m 58s\n",
      "344:\tlearn: 0.6068801\ttotal: 7m 52s\tremaining: 14m 57s\n",
      "345:\tlearn: 0.6065432\ttotal: 7m 54s\tremaining: 14m 56s\n",
      "346:\tlearn: 0.6061935\ttotal: 7m 55s\tremaining: 14m 55s\n",
      "347:\tlearn: 0.6060080\ttotal: 7m 57s\tremaining: 14m 54s\n",
      "348:\tlearn: 0.6050432\ttotal: 7m 58s\tremaining: 14m 52s\n",
      "349:\tlearn: 0.6046169\ttotal: 8m\tremaining: 14m 51s\n",
      "350:\tlearn: 0.6041801\ttotal: 8m 1s\tremaining: 14m 51s\n",
      "351:\tlearn: 0.6039541\ttotal: 8m 3s\tremaining: 14m 50s\n",
      "352:\tlearn: 0.6036929\ttotal: 8m 5s\tremaining: 14m 48s\n",
      "353:\tlearn: 0.6028465\ttotal: 8m 6s\tremaining: 14m 47s\n",
      "354:\tlearn: 0.6018902\ttotal: 8m 8s\tremaining: 14m 46s\n",
      "355:\tlearn: 0.6016244\ttotal: 8m 9s\tremaining: 14m 45s\n",
      "356:\tlearn: 0.6012713\ttotal: 8m 11s\tremaining: 14m 45s\n",
      "357:\tlearn: 0.6006874\ttotal: 8m 12s\tremaining: 14m 43s\n",
      "358:\tlearn: 0.6004451\ttotal: 8m 14s\tremaining: 14m 42s\n",
      "359:\tlearn: 0.6002251\ttotal: 8m 15s\tremaining: 14m 41s\n",
      "360:\tlearn: 0.5996875\ttotal: 8m 17s\tremaining: 14m 40s\n",
      "361:\tlearn: 0.5993018\ttotal: 8m 19s\tremaining: 14m 39s\n",
      "362:\tlearn: 0.5986468\ttotal: 8m 20s\tremaining: 14m 38s\n",
      "363:\tlearn: 0.5983695\ttotal: 8m 22s\tremaining: 14m 37s\n",
      "364:\tlearn: 0.5980270\ttotal: 8m 23s\tremaining: 14m 35s\n",
      "365:\tlearn: 0.5975670\ttotal: 8m 24s\tremaining: 14m 34s\n",
      "366:\tlearn: 0.5968067\ttotal: 8m 26s\tremaining: 14m 32s\n",
      "367:\tlearn: 0.5963833\ttotal: 8m 27s\tremaining: 14m 31s\n",
      "368:\tlearn: 0.5961399\ttotal: 8m 28s\tremaining: 14m 30s\n",
      "369:\tlearn: 0.5958102\ttotal: 8m 30s\tremaining: 14m 28s\n",
      "370:\tlearn: 0.5955355\ttotal: 8m 31s\tremaining: 14m 27s\n",
      "371:\tlearn: 0.5952586\ttotal: 8m 33s\tremaining: 14m 26s\n",
      "372:\tlearn: 0.5945105\ttotal: 8m 35s\tremaining: 14m 26s\n",
      "373:\tlearn: 0.5925625\ttotal: 8m 37s\tremaining: 14m 25s\n",
      "374:\tlearn: 0.5922722\ttotal: 8m 38s\tremaining: 14m 24s\n",
      "375:\tlearn: 0.5919457\ttotal: 8m 40s\tremaining: 14m 23s\n",
      "376:\tlearn: 0.5916198\ttotal: 8m 41s\tremaining: 14m 21s\n",
      "377:\tlearn: 0.5912929\ttotal: 8m 42s\tremaining: 14m 20s\n",
      "378:\tlearn: 0.5896763\ttotal: 8m 44s\tremaining: 14m 19s\n",
      "379:\tlearn: 0.5893806\ttotal: 8m 45s\tremaining: 14m 17s\n",
      "380:\tlearn: 0.5889983\ttotal: 8m 47s\tremaining: 14m 16s\n",
      "381:\tlearn: 0.5887373\ttotal: 8m 48s\tremaining: 14m 15s\n",
      "382:\tlearn: 0.5884436\ttotal: 8m 50s\tremaining: 14m 13s\n",
      "383:\tlearn: 0.5875172\ttotal: 8m 51s\tremaining: 14m 12s\n",
      "384:\tlearn: 0.5871100\ttotal: 8m 52s\tremaining: 14m 11s\n",
      "385:\tlearn: 0.5857274\ttotal: 8m 54s\tremaining: 14m 9s\n",
      "386:\tlearn: 0.5848164\ttotal: 8m 55s\tremaining: 14m 8s\n",
      "387:\tlearn: 0.5845895\ttotal: 8m 57s\tremaining: 14m 7s\n",
      "388:\tlearn: 0.5840592\ttotal: 8m 58s\tremaining: 14m 6s\n",
      "389:\tlearn: 0.5836606\ttotal: 9m\tremaining: 14m 4s\n",
      "390:\tlearn: 0.5829698\ttotal: 9m 1s\tremaining: 14m 3s\n",
      "391:\tlearn: 0.5828016\ttotal: 9m 3s\tremaining: 14m 2s\n",
      "392:\tlearn: 0.5825325\ttotal: 9m 4s\tremaining: 14m 1s\n",
      "393:\tlearn: 0.5822802\ttotal: 9m 5s\tremaining: 13m 59s\n",
      "394:\tlearn: 0.5818793\ttotal: 9m 7s\tremaining: 13m 58s\n",
      "395:\tlearn: 0.5816165\ttotal: 9m 8s\tremaining: 13m 56s\n",
      "396:\tlearn: 0.5812040\ttotal: 9m 10s\tremaining: 13m 55s\n",
      "397:\tlearn: 0.5809265\ttotal: 9m 11s\tremaining: 13m 54s\n",
      "398:\tlearn: 0.5803170\ttotal: 9m 13s\tremaining: 13m 53s\n",
      "399:\tlearn: 0.5799672\ttotal: 9m 14s\tremaining: 13m 51s\n",
      "400:\tlearn: 0.5796296\ttotal: 9m 15s\tremaining: 13m 50s\n",
      "401:\tlearn: 0.5791664\ttotal: 9m 17s\tremaining: 13m 49s\n",
      "402:\tlearn: 0.5784052\ttotal: 9m 18s\tremaining: 13m 47s\n",
      "403:\tlearn: 0.5781270\ttotal: 9m 20s\tremaining: 13m 46s\n",
      "404:\tlearn: 0.5776251\ttotal: 9m 21s\tremaining: 13m 45s\n",
      "405:\tlearn: 0.5774399\ttotal: 9m 23s\tremaining: 13m 44s\n",
      "406:\tlearn: 0.5771160\ttotal: 9m 24s\tremaining: 13m 42s\n",
      "407:\tlearn: 0.5769081\ttotal: 9m 26s\tremaining: 13m 41s\n",
      "408:\tlearn: 0.5766256\ttotal: 9m 27s\tremaining: 13m 40s\n",
      "409:\tlearn: 0.5760870\ttotal: 9m 29s\tremaining: 13m 39s\n",
      "410:\tlearn: 0.5758295\ttotal: 9m 30s\tremaining: 13m 37s\n",
      "411:\tlearn: 0.5756317\ttotal: 9m 31s\tremaining: 13m 36s\n",
      "412:\tlearn: 0.5754042\ttotal: 9m 33s\tremaining: 13m 35s\n",
      "413:\tlearn: 0.5749727\ttotal: 9m 34s\tremaining: 13m 33s\n",
      "414:\tlearn: 0.5743899\ttotal: 9m 36s\tremaining: 13m 32s\n",
      "415:\tlearn: 0.5739957\ttotal: 9m 37s\tremaining: 13m 30s\n",
      "416:\tlearn: 0.5731068\ttotal: 9m 39s\tremaining: 13m 29s\n",
      "417:\tlearn: 0.5728299\ttotal: 9m 40s\tremaining: 13m 28s\n",
      "418:\tlearn: 0.5723357\ttotal: 9m 42s\tremaining: 13m 27s\n",
      "419:\tlearn: 0.5718499\ttotal: 9m 43s\tremaining: 13m 25s\n",
      "420:\tlearn: 0.5715807\ttotal: 9m 44s\tremaining: 13m 24s\n",
      "421:\tlearn: 0.5703774\ttotal: 9m 46s\tremaining: 13m 22s\n",
      "422:\tlearn: 0.5685373\ttotal: 9m 47s\tremaining: 13m 21s\n",
      "423:\tlearn: 0.5683086\ttotal: 9m 49s\tremaining: 13m 20s\n",
      "424:\tlearn: 0.5681011\ttotal: 9m 50s\tremaining: 13m 19s\n",
      "425:\tlearn: 0.5677520\ttotal: 9m 52s\tremaining: 13m 18s\n",
      "426:\tlearn: 0.5675244\ttotal: 9m 53s\tremaining: 13m 17s\n",
      "427:\tlearn: 0.5671375\ttotal: 9m 55s\tremaining: 13m 15s\n",
      "428:\tlearn: 0.5667525\ttotal: 9m 56s\tremaining: 13m 14s\n",
      "429:\tlearn: 0.5664068\ttotal: 9m 58s\tremaining: 13m 12s\n",
      "430:\tlearn: 0.5661054\ttotal: 9m 59s\tremaining: 13m 11s\n",
      "431:\tlearn: 0.5657904\ttotal: 10m\tremaining: 13m 10s\n",
      "432:\tlearn: 0.5651745\ttotal: 10m 2s\tremaining: 13m 8s\n",
      "433:\tlearn: 0.5645697\ttotal: 10m 3s\tremaining: 13m 7s\n",
      "434:\tlearn: 0.5642677\ttotal: 10m 5s\tremaining: 13m 5s\n",
      "435:\tlearn: 0.5632622\ttotal: 10m 6s\tremaining: 13m 4s\n",
      "436:\tlearn: 0.5631147\ttotal: 10m 8s\tremaining: 13m 3s\n",
      "437:\tlearn: 0.5626049\ttotal: 10m 9s\tremaining: 13m 1s\n",
      "438:\tlearn: 0.5622322\ttotal: 10m 10s\tremaining: 13m\n",
      "439:\tlearn: 0.5618922\ttotal: 10m 12s\tremaining: 12m 59s\n",
      "440:\tlearn: 0.5611140\ttotal: 10m 13s\tremaining: 12m 58s\n",
      "441:\tlearn: 0.5606189\ttotal: 10m 15s\tremaining: 12m 56s\n",
      "442:\tlearn: 0.5602658\ttotal: 10m 16s\tremaining: 12m 55s\n",
      "443:\tlearn: 0.5601075\ttotal: 10m 18s\tremaining: 12m 54s\n",
      "444:\tlearn: 0.5594147\ttotal: 10m 19s\tremaining: 12m 52s\n",
      "445:\tlearn: 0.5590874\ttotal: 10m 20s\tremaining: 12m 51s\n",
      "446:\tlearn: 0.5588065\ttotal: 10m 22s\tremaining: 12m 49s\n",
      "447:\tlearn: 0.5585164\ttotal: 10m 23s\tremaining: 12m 48s\n",
      "448:\tlearn: 0.5579157\ttotal: 10m 25s\tremaining: 12m 47s\n",
      "449:\tlearn: 0.5571088\ttotal: 10m 26s\tremaining: 12m 45s\n",
      "450:\tlearn: 0.5569211\ttotal: 10m 27s\tremaining: 12m 44s\n",
      "451:\tlearn: 0.5566292\ttotal: 10m 29s\tremaining: 12m 43s\n",
      "452:\tlearn: 0.5563869\ttotal: 10m 31s\tremaining: 12m 42s\n"
     ]
    },
    {
     "name": "stdout",
     "output_type": "stream",
     "text": [
      "453:\tlearn: 0.5561557\ttotal: 10m 32s\tremaining: 12m 41s\n",
      "454:\tlearn: 0.5559439\ttotal: 10m 34s\tremaining: 12m 39s\n",
      "455:\tlearn: 0.5557093\ttotal: 10m 35s\tremaining: 12m 38s\n",
      "456:\tlearn: 0.5547732\ttotal: 10m 36s\tremaining: 12m 36s\n",
      "457:\tlearn: 0.5545509\ttotal: 10m 38s\tremaining: 12m 35s\n",
      "458:\tlearn: 0.5541835\ttotal: 10m 40s\tremaining: 12m 34s\n",
      "459:\tlearn: 0.5537098\ttotal: 10m 41s\tremaining: 12m 33s\n",
      "460:\tlearn: 0.5534206\ttotal: 10m 42s\tremaining: 12m 31s\n",
      "461:\tlearn: 0.5528003\ttotal: 10m 44s\tremaining: 12m 30s\n",
      "462:\tlearn: 0.5524293\ttotal: 10m 45s\tremaining: 12m 28s\n",
      "463:\tlearn: 0.5521044\ttotal: 10m 47s\tremaining: 12m 27s\n",
      "464:\tlearn: 0.5518667\ttotal: 10m 48s\tremaining: 12m 26s\n",
      "465:\tlearn: 0.5517001\ttotal: 10m 50s\tremaining: 12m 25s\n",
      "466:\tlearn: 0.5513648\ttotal: 10m 52s\tremaining: 12m 24s\n",
      "467:\tlearn: 0.5511759\ttotal: 10m 53s\tremaining: 12m 22s\n",
      "468:\tlearn: 0.5509242\ttotal: 10m 54s\tremaining: 12m 21s\n",
      "469:\tlearn: 0.5505749\ttotal: 10m 56s\tremaining: 12m 20s\n",
      "470:\tlearn: 0.5497040\ttotal: 10m 58s\tremaining: 12m 19s\n",
      "471:\tlearn: 0.5494769\ttotal: 10m 59s\tremaining: 12m 17s\n",
      "472:\tlearn: 0.5486725\ttotal: 11m 1s\tremaining: 12m 16s\n",
      "473:\tlearn: 0.5484884\ttotal: 11m 2s\tremaining: 12m 15s\n",
      "474:\tlearn: 0.5477416\ttotal: 11m 4s\tremaining: 12m 14s\n",
      "475:\tlearn: 0.5468931\ttotal: 11m 6s\tremaining: 12m 13s\n",
      "476:\tlearn: 0.5463634\ttotal: 11m 7s\tremaining: 12m 12s\n",
      "477:\tlearn: 0.5461623\ttotal: 11m 9s\tremaining: 12m 11s\n",
      "478:\tlearn: 0.5459421\ttotal: 11m 11s\tremaining: 12m 9s\n",
      "479:\tlearn: 0.5454158\ttotal: 11m 12s\tremaining: 12m 8s\n",
      "480:\tlearn: 0.5446337\ttotal: 11m 14s\tremaining: 12m 7s\n",
      "481:\tlearn: 0.5442322\ttotal: 11m 15s\tremaining: 12m 6s\n",
      "482:\tlearn: 0.5436929\ttotal: 11m 17s\tremaining: 12m 5s\n",
      "483:\tlearn: 0.5430118\ttotal: 11m 19s\tremaining: 12m 4s\n",
      "484:\tlearn: 0.5428878\ttotal: 11m 20s\tremaining: 12m 2s\n",
      "485:\tlearn: 0.5427307\ttotal: 11m 22s\tremaining: 12m 1s\n",
      "486:\tlearn: 0.5421636\ttotal: 11m 23s\tremaining: 12m\n",
      "487:\tlearn: 0.5419483\ttotal: 11m 25s\tremaining: 11m 59s\n",
      "488:\tlearn: 0.5413177\ttotal: 11m 27s\tremaining: 11m 58s\n",
      "489:\tlearn: 0.5411181\ttotal: 11m 28s\tremaining: 11m 56s\n",
      "490:\tlearn: 0.5400840\ttotal: 11m 30s\tremaining: 11m 55s\n",
      "491:\tlearn: 0.5398208\ttotal: 11m 31s\tremaining: 11m 54s\n",
      "492:\tlearn: 0.5386112\ttotal: 11m 33s\tremaining: 11m 53s\n",
      "493:\tlearn: 0.5382536\ttotal: 11m 34s\tremaining: 11m 51s\n",
      "494:\tlearn: 0.5371569\ttotal: 11m 36s\tremaining: 11m 50s\n",
      "495:\tlearn: 0.5369505\ttotal: 11m 38s\tremaining: 11m 49s\n",
      "496:\tlearn: 0.5368075\ttotal: 11m 39s\tremaining: 11m 48s\n",
      "497:\tlearn: 0.5364720\ttotal: 11m 41s\tremaining: 11m 46s\n",
      "498:\tlearn: 0.5360585\ttotal: 11m 42s\tremaining: 11m 45s\n",
      "499:\tlearn: 0.5358077\ttotal: 11m 44s\tremaining: 11m 44s\n",
      "500:\tlearn: 0.5355956\ttotal: 11m 46s\tremaining: 11m 43s\n",
      "501:\tlearn: 0.5353963\ttotal: 11m 48s\tremaining: 11m 42s\n",
      "502:\tlearn: 0.5351776\ttotal: 11m 49s\tremaining: 11m 41s\n",
      "503:\tlearn: 0.5349024\ttotal: 11m 51s\tremaining: 11m 40s\n",
      "504:\tlearn: 0.5344284\ttotal: 11m 53s\tremaining: 11m 39s\n",
      "505:\tlearn: 0.5342006\ttotal: 11m 54s\tremaining: 11m 37s\n",
      "506:\tlearn: 0.5333231\ttotal: 11m 56s\tremaining: 11m 36s\n",
      "507:\tlearn: 0.5323605\ttotal: 11m 57s\tremaining: 11m 34s\n",
      "508:\tlearn: 0.5322370\ttotal: 11m 58s\tremaining: 11m 33s\n",
      "509:\tlearn: 0.5320375\ttotal: 12m\tremaining: 11m 31s\n",
      "510:\tlearn: 0.5318305\ttotal: 12m 1s\tremaining: 11m 30s\n",
      "511:\tlearn: 0.5304901\ttotal: 12m 2s\tremaining: 11m 28s\n",
      "512:\tlearn: 0.5302936\ttotal: 12m 4s\tremaining: 11m 27s\n",
      "513:\tlearn: 0.5300014\ttotal: 12m 5s\tremaining: 11m 25s\n",
      "514:\tlearn: 0.5297382\ttotal: 12m 6s\tremaining: 11m 24s\n",
      "515:\tlearn: 0.5295249\ttotal: 12m 8s\tremaining: 11m 22s\n",
      "516:\tlearn: 0.5293455\ttotal: 12m 9s\tremaining: 11m 21s\n",
      "517:\tlearn: 0.5290602\ttotal: 12m 11s\tremaining: 11m 20s\n",
      "518:\tlearn: 0.5285797\ttotal: 12m 12s\tremaining: 11m 18s\n",
      "519:\tlearn: 0.5283692\ttotal: 12m 13s\tremaining: 11m 17s\n",
      "520:\tlearn: 0.5281923\ttotal: 12m 15s\tremaining: 11m 16s\n",
      "521:\tlearn: 0.5279406\ttotal: 12m 16s\tremaining: 11m 14s\n",
      "522:\tlearn: 0.5277283\ttotal: 12m 18s\tremaining: 11m 13s\n",
      "523:\tlearn: 0.5272801\ttotal: 12m 19s\tremaining: 11m 12s\n",
      "524:\tlearn: 0.5271094\ttotal: 12m 21s\tremaining: 11m 10s\n",
      "525:\tlearn: 0.5256527\ttotal: 12m 22s\tremaining: 11m 9s\n",
      "526:\tlearn: 0.5253415\ttotal: 12m 24s\tremaining: 11m 7s\n",
      "527:\tlearn: 0.5248704\ttotal: 12m 25s\tremaining: 11m 6s\n",
      "528:\tlearn: 0.5246321\ttotal: 12m 27s\tremaining: 11m 5s\n",
      "529:\tlearn: 0.5240869\ttotal: 12m 28s\tremaining: 11m 3s\n",
      "530:\tlearn: 0.5238001\ttotal: 12m 29s\tremaining: 11m 2s\n",
      "531:\tlearn: 0.5235066\ttotal: 12m 31s\tremaining: 11m 1s\n",
      "532:\tlearn: 0.5230073\ttotal: 12m 33s\tremaining: 10m 59s\n",
      "533:\tlearn: 0.5228401\ttotal: 12m 34s\tremaining: 10m 58s\n",
      "534:\tlearn: 0.5222974\ttotal: 12m 36s\tremaining: 10m 57s\n",
      "535:\tlearn: 0.5218764\ttotal: 12m 37s\tremaining: 10m 55s\n",
      "536:\tlearn: 0.5216651\ttotal: 12m 39s\tremaining: 10m 54s\n",
      "537:\tlearn: 0.5214410\ttotal: 12m 40s\tremaining: 10m 53s\n",
      "538:\tlearn: 0.5212628\ttotal: 12m 42s\tremaining: 10m 52s\n",
      "539:\tlearn: 0.5210488\ttotal: 12m 44s\tremaining: 10m 51s\n",
      "540:\tlearn: 0.5208921\ttotal: 12m 46s\tremaining: 10m 49s\n",
      "541:\tlearn: 0.5203222\ttotal: 12m 47s\tremaining: 10m 48s\n",
      "542:\tlearn: 0.5201281\ttotal: 12m 49s\tremaining: 10m 47s\n",
      "543:\tlearn: 0.5198630\ttotal: 12m 50s\tremaining: 10m 46s\n",
      "544:\tlearn: 0.5187443\ttotal: 12m 52s\tremaining: 10m 44s\n",
      "545:\tlearn: 0.5183508\ttotal: 12m 53s\tremaining: 10m 43s\n",
      "546:\tlearn: 0.5182077\ttotal: 12m 55s\tremaining: 10m 42s\n",
      "547:\tlearn: 0.5180085\ttotal: 12m 56s\tremaining: 10m 40s\n",
      "548:\tlearn: 0.5177816\ttotal: 12m 58s\tremaining: 10m 39s\n",
      "549:\tlearn: 0.5175720\ttotal: 13m\tremaining: 10m 38s\n",
      "550:\tlearn: 0.5170221\ttotal: 13m 1s\tremaining: 10m 36s\n",
      "551:\tlearn: 0.5167842\ttotal: 13m 3s\tremaining: 10m 35s\n",
      "552:\tlearn: 0.5162692\ttotal: 13m 4s\tremaining: 10m 34s\n",
      "553:\tlearn: 0.5157073\ttotal: 13m 6s\tremaining: 10m 32s\n",
      "554:\tlearn: 0.5154455\ttotal: 13m 7s\tremaining: 10m 31s\n",
      "555:\tlearn: 0.5153039\ttotal: 13m 9s\tremaining: 10m 30s\n",
      "556:\tlearn: 0.5151442\ttotal: 13m 10s\tremaining: 10m 28s\n",
      "557:\tlearn: 0.5144230\ttotal: 13m 12s\tremaining: 10m 27s\n",
      "558:\tlearn: 0.5142292\ttotal: 13m 13s\tremaining: 10m 26s\n",
      "559:\tlearn: 0.5140110\ttotal: 13m 15s\tremaining: 10m 24s\n",
      "560:\tlearn: 0.5134394\ttotal: 13m 16s\tremaining: 10m 23s\n",
      "561:\tlearn: 0.5132388\ttotal: 13m 17s\tremaining: 10m 21s\n",
      "562:\tlearn: 0.5131006\ttotal: 13m 19s\tremaining: 10m 20s\n",
      "563:\tlearn: 0.5128575\ttotal: 13m 20s\tremaining: 10m 19s\n",
      "564:\tlearn: 0.5126878\ttotal: 13m 22s\tremaining: 10m 17s\n",
      "565:\tlearn: 0.5123507\ttotal: 13m 23s\tremaining: 10m 16s\n",
      "566:\tlearn: 0.5115183\ttotal: 13m 25s\tremaining: 10m 15s\n",
      "567:\tlearn: 0.5106994\ttotal: 13m 27s\tremaining: 10m 13s\n",
      "568:\tlearn: 0.5104348\ttotal: 13m 28s\tremaining: 10m 12s\n",
      "569:\tlearn: 0.5102210\ttotal: 13m 30s\tremaining: 10m 11s\n",
      "570:\tlearn: 0.5097754\ttotal: 13m 31s\tremaining: 10m 9s\n",
      "571:\tlearn: 0.5095429\ttotal: 13m 33s\tremaining: 10m 8s\n",
      "572:\tlearn: 0.5093147\ttotal: 13m 34s\tremaining: 10m 7s\n",
      "573:\tlearn: 0.5089199\ttotal: 13m 36s\tremaining: 10m 5s\n",
      "574:\tlearn: 0.5085840\ttotal: 13m 37s\tremaining: 10m 4s\n",
      "575:\tlearn: 0.5076942\ttotal: 13m 39s\tremaining: 10m 3s\n",
      "576:\tlearn: 0.5069698\ttotal: 13m 40s\tremaining: 10m 1s\n",
      "577:\tlearn: 0.5068195\ttotal: 13m 42s\tremaining: 10m\n",
      "578:\tlearn: 0.5065961\ttotal: 13m 44s\tremaining: 9m 59s\n",
      "579:\tlearn: 0.5064561\ttotal: 13m 46s\tremaining: 9m 58s\n",
      "580:\tlearn: 0.5057212\ttotal: 13m 48s\tremaining: 9m 57s\n",
      "581:\tlearn: 0.5046038\ttotal: 13m 51s\tremaining: 9m 57s\n",
      "582:\tlearn: 0.5040021\ttotal: 13m 53s\tremaining: 9m 56s\n",
      "583:\tlearn: 0.5038465\ttotal: 13m 55s\tremaining: 9m 55s\n",
      "584:\tlearn: 0.5036814\ttotal: 13m 57s\tremaining: 9m 53s\n",
      "585:\tlearn: 0.5034547\ttotal: 13m 59s\tremaining: 9m 52s\n",
      "586:\tlearn: 0.5031902\ttotal: 14m\tremaining: 9m 51s\n",
      "587:\tlearn: 0.5028251\ttotal: 14m 2s\tremaining: 9m 50s\n",
      "588:\tlearn: 0.5024755\ttotal: 14m 4s\tremaining: 9m 48s\n",
      "589:\tlearn: 0.5022748\ttotal: 14m 5s\tremaining: 9m 47s\n",
      "590:\tlearn: 0.5020494\ttotal: 14m 6s\tremaining: 9m 46s\n",
      "591:\tlearn: 0.5017964\ttotal: 14m 8s\tremaining: 9m 44s\n",
      "592:\tlearn: 0.5008619\ttotal: 14m 9s\tremaining: 9m 43s\n",
      "593:\tlearn: 0.5000550\ttotal: 14m 11s\tremaining: 9m 41s\n",
      "594:\tlearn: 0.4998996\ttotal: 14m 12s\tremaining: 9m 40s\n",
      "595:\tlearn: 0.4997111\ttotal: 14m 13s\tremaining: 9m 38s\n",
      "596:\tlearn: 0.4995804\ttotal: 14m 15s\tremaining: 9m 37s\n",
      "597:\tlearn: 0.4994023\ttotal: 14m 16s\tremaining: 9m 36s\n",
      "598:\tlearn: 0.4992132\ttotal: 14m 18s\tremaining: 9m 34s\n",
      "599:\tlearn: 0.4990593\ttotal: 14m 19s\tremaining: 9m 33s\n",
      "600:\tlearn: 0.4988352\ttotal: 14m 21s\tremaining: 9m 31s\n"
     ]
    },
    {
     "name": "stdout",
     "output_type": "stream",
     "text": [
      "601:\tlearn: 0.4984057\ttotal: 14m 22s\tremaining: 9m 30s\n",
      "602:\tlearn: 0.4982313\ttotal: 14m 24s\tremaining: 9m 29s\n",
      "603:\tlearn: 0.4980112\ttotal: 14m 25s\tremaining: 9m 27s\n",
      "604:\tlearn: 0.4978297\ttotal: 14m 27s\tremaining: 9m 26s\n",
      "605:\tlearn: 0.4974404\ttotal: 14m 28s\tremaining: 9m 24s\n",
      "606:\tlearn: 0.4972372\ttotal: 14m 30s\tremaining: 9m 23s\n",
      "607:\tlearn: 0.4971080\ttotal: 14m 31s\tremaining: 9m 21s\n",
      "608:\tlearn: 0.4969804\ttotal: 14m 32s\tremaining: 9m 20s\n",
      "609:\tlearn: 0.4968010\ttotal: 14m 34s\tremaining: 9m 19s\n",
      "610:\tlearn: 0.4964188\ttotal: 14m 35s\tremaining: 9m 17s\n",
      "611:\tlearn: 0.4961981\ttotal: 14m 37s\tremaining: 9m 16s\n",
      "612:\tlearn: 0.4960489\ttotal: 14m 38s\tremaining: 9m 14s\n",
      "613:\tlearn: 0.4958665\ttotal: 14m 40s\tremaining: 9m 13s\n",
      "614:\tlearn: 0.4956672\ttotal: 14m 41s\tremaining: 9m 11s\n",
      "615:\tlearn: 0.4954899\ttotal: 14m 43s\tremaining: 9m 10s\n",
      "616:\tlearn: 0.4950648\ttotal: 14m 44s\tremaining: 9m 9s\n",
      "617:\tlearn: 0.4947904\ttotal: 14m 46s\tremaining: 9m 7s\n",
      "618:\tlearn: 0.4946235\ttotal: 14m 47s\tremaining: 9m 6s\n",
      "619:\tlearn: 0.4943345\ttotal: 14m 49s\tremaining: 9m 5s\n",
      "620:\tlearn: 0.4940507\ttotal: 14m 50s\tremaining: 9m 3s\n",
      "621:\tlearn: 0.4939017\ttotal: 14m 52s\tremaining: 9m 2s\n",
      "622:\tlearn: 0.4937073\ttotal: 14m 53s\tremaining: 9m\n",
      "623:\tlearn: 0.4935755\ttotal: 14m 54s\tremaining: 8m 59s\n",
      "624:\tlearn: 0.4934091\ttotal: 14m 56s\tremaining: 8m 57s\n",
      "625:\tlearn: 0.4931882\ttotal: 14m 57s\tremaining: 8m 56s\n",
      "626:\tlearn: 0.4928698\ttotal: 14m 59s\tremaining: 8m 54s\n",
      "627:\tlearn: 0.4927407\ttotal: 15m\tremaining: 8m 53s\n",
      "628:\tlearn: 0.4917954\ttotal: 15m 2s\tremaining: 8m 52s\n",
      "629:\tlearn: 0.4915984\ttotal: 15m 4s\tremaining: 8m 51s\n",
      "630:\tlearn: 0.4914062\ttotal: 15m 5s\tremaining: 8m 49s\n",
      "631:\tlearn: 0.4912008\ttotal: 15m 7s\tremaining: 8m 48s\n",
      "632:\tlearn: 0.4909101\ttotal: 15m 8s\tremaining: 8m 46s\n",
      "633:\tlearn: 0.4904686\ttotal: 15m 9s\tremaining: 8m 45s\n",
      "634:\tlearn: 0.4903288\ttotal: 15m 11s\tremaining: 8m 43s\n",
      "635:\tlearn: 0.4899567\ttotal: 15m 12s\tremaining: 8m 42s\n",
      "636:\tlearn: 0.4894623\ttotal: 15m 14s\tremaining: 8m 40s\n",
      "637:\tlearn: 0.4885416\ttotal: 15m 15s\tremaining: 8m 39s\n",
      "638:\tlearn: 0.4883619\ttotal: 15m 16s\tremaining: 8m 37s\n",
      "639:\tlearn: 0.4880982\ttotal: 15m 18s\tremaining: 8m 36s\n",
      "640:\tlearn: 0.4879091\ttotal: 15m 19s\tremaining: 8m 34s\n",
      "641:\tlearn: 0.4873809\ttotal: 15m 20s\tremaining: 8m 33s\n",
      "642:\tlearn: 0.4871904\ttotal: 15m 22s\tremaining: 8m 31s\n",
      "643:\tlearn: 0.4870241\ttotal: 15m 23s\tremaining: 8m 30s\n",
      "644:\tlearn: 0.4868354\ttotal: 15m 25s\tremaining: 8m 29s\n",
      "645:\tlearn: 0.4861117\ttotal: 15m 26s\tremaining: 8m 27s\n",
      "646:\tlearn: 0.4858870\ttotal: 15m 28s\tremaining: 8m 26s\n",
      "647:\tlearn: 0.4857100\ttotal: 15m 29s\tremaining: 8m 25s\n",
      "648:\tlearn: 0.4854639\ttotal: 15m 31s\tremaining: 8m 23s\n",
      "649:\tlearn: 0.4853356\ttotal: 15m 32s\tremaining: 8m 22s\n",
      "650:\tlearn: 0.4851275\ttotal: 15m 34s\tremaining: 8m 20s\n",
      "651:\tlearn: 0.4849318\ttotal: 15m 35s\tremaining: 8m 19s\n",
      "652:\tlearn: 0.4845432\ttotal: 15m 37s\tremaining: 8m 17s\n",
      "653:\tlearn: 0.4843663\ttotal: 15m 38s\tremaining: 8m 16s\n",
      "654:\tlearn: 0.4842180\ttotal: 15m 40s\tremaining: 8m 15s\n",
      "655:\tlearn: 0.4837508\ttotal: 15m 41s\tremaining: 8m 13s\n",
      "656:\tlearn: 0.4829456\ttotal: 15m 43s\tremaining: 8m 12s\n",
      "657:\tlearn: 0.4822489\ttotal: 15m 44s\tremaining: 8m 11s\n",
      "658:\tlearn: 0.4818430\ttotal: 15m 46s\tremaining: 8m 9s\n",
      "659:\tlearn: 0.4817221\ttotal: 15m 47s\tremaining: 8m 8s\n",
      "660:\tlearn: 0.4815684\ttotal: 15m 48s\tremaining: 8m 6s\n",
      "661:\tlearn: 0.4812194\ttotal: 15m 50s\tremaining: 8m 5s\n",
      "662:\tlearn: 0.4809370\ttotal: 15m 51s\tremaining: 8m 3s\n",
      "663:\tlearn: 0.4807443\ttotal: 15m 53s\tremaining: 8m 2s\n",
      "664:\tlearn: 0.4801571\ttotal: 15m 54s\tremaining: 8m\n",
      "665:\tlearn: 0.4796104\ttotal: 15m 55s\tremaining: 7m 59s\n",
      "666:\tlearn: 0.4794333\ttotal: 15m 57s\tremaining: 7m 57s\n",
      "667:\tlearn: 0.4792562\ttotal: 15m 58s\tremaining: 7m 56s\n",
      "668:\tlearn: 0.4791281\ttotal: 15m 59s\tremaining: 7m 54s\n",
      "669:\tlearn: 0.4789402\ttotal: 16m 1s\tremaining: 7m 53s\n",
      "670:\tlearn: 0.4784244\ttotal: 16m 2s\tremaining: 7m 51s\n",
      "671:\tlearn: 0.4782196\ttotal: 16m 4s\tremaining: 7m 50s\n",
      "672:\tlearn: 0.4780466\ttotal: 16m 5s\tremaining: 7m 49s\n",
      "673:\tlearn: 0.4778639\ttotal: 16m 6s\tremaining: 7m 47s\n",
      "674:\tlearn: 0.4776502\ttotal: 16m 8s\tremaining: 7m 46s\n",
      "675:\tlearn: 0.4774480\ttotal: 16m 9s\tremaining: 7m 44s\n",
      "676:\tlearn: 0.4767143\ttotal: 16m 11s\tremaining: 7m 43s\n",
      "677:\tlearn: 0.4762678\ttotal: 16m 12s\tremaining: 7m 41s\n",
      "678:\tlearn: 0.4761122\ttotal: 16m 14s\tremaining: 7m 40s\n",
      "679:\tlearn: 0.4759651\ttotal: 16m 15s\tremaining: 7m 39s\n",
      "680:\tlearn: 0.4758020\ttotal: 16m 17s\tremaining: 7m 37s\n",
      "681:\tlearn: 0.4756270\ttotal: 16m 18s\tremaining: 7m 36s\n",
      "682:\tlearn: 0.4746249\ttotal: 16m 19s\tremaining: 7m 34s\n",
      "683:\tlearn: 0.4744956\ttotal: 16m 21s\tremaining: 7m 33s\n",
      "684:\tlearn: 0.4743454\ttotal: 16m 22s\tremaining: 7m 31s\n",
      "685:\tlearn: 0.4741949\ttotal: 16m 23s\tremaining: 7m 30s\n",
      "686:\tlearn: 0.4740378\ttotal: 16m 25s\tremaining: 7m 29s\n",
      "687:\tlearn: 0.4737740\ttotal: 16m 27s\tremaining: 7m 27s\n",
      "688:\tlearn: 0.4736098\ttotal: 16m 29s\tremaining: 7m 26s\n",
      "689:\tlearn: 0.4733348\ttotal: 16m 31s\tremaining: 7m 25s\n",
      "690:\tlearn: 0.4729899\ttotal: 16m 33s\tremaining: 7m 24s\n",
      "691:\tlearn: 0.4727600\ttotal: 16m 35s\tremaining: 7m 23s\n",
      "692:\tlearn: 0.4725799\ttotal: 16m 38s\tremaining: 7m 22s\n",
      "693:\tlearn: 0.4724541\ttotal: 16m 40s\tremaining: 7m 21s\n",
      "694:\tlearn: 0.4722976\ttotal: 16m 42s\tremaining: 7m 19s\n",
      "695:\tlearn: 0.4719517\ttotal: 16m 43s\tremaining: 7m 18s\n",
      "696:\tlearn: 0.4718132\ttotal: 16m 45s\tremaining: 7m 16s\n",
      "697:\tlearn: 0.4715690\ttotal: 16m 46s\tremaining: 7m 15s\n",
      "698:\tlearn: 0.4712537\ttotal: 16m 48s\tremaining: 7m 14s\n",
      "699:\tlearn: 0.4705979\ttotal: 16m 50s\tremaining: 7m 13s\n",
      "700:\tlearn: 0.4703773\ttotal: 16m 52s\tremaining: 7m 11s\n",
      "701:\tlearn: 0.4700696\ttotal: 16m 54s\tremaining: 7m 10s\n",
      "702:\tlearn: 0.4698592\ttotal: 16m 56s\tremaining: 7m 9s\n",
      "703:\tlearn: 0.4696053\ttotal: 16m 58s\tremaining: 7m 8s\n",
      "704:\tlearn: 0.4688243\ttotal: 17m\tremaining: 7m 6s\n",
      "705:\tlearn: 0.4686755\ttotal: 17m 1s\tremaining: 7m 5s\n",
      "706:\tlearn: 0.4684932\ttotal: 17m 3s\tremaining: 7m 4s\n",
      "707:\tlearn: 0.4676243\ttotal: 17m 4s\tremaining: 7m 2s\n",
      "708:\tlearn: 0.4674819\ttotal: 17m 6s\tremaining: 7m 1s\n",
      "709:\tlearn: 0.4673579\ttotal: 17m 7s\tremaining: 6m 59s\n",
      "710:\tlearn: 0.4668425\ttotal: 17m 9s\tremaining: 6m 58s\n",
      "711:\tlearn: 0.4665727\ttotal: 17m 10s\tremaining: 6m 56s\n",
      "712:\tlearn: 0.4664160\ttotal: 17m 12s\tremaining: 6m 55s\n",
      "713:\tlearn: 0.4663026\ttotal: 17m 13s\tremaining: 6m 54s\n",
      "714:\tlearn: 0.4661244\ttotal: 17m 15s\tremaining: 6m 52s\n",
      "715:\tlearn: 0.4657540\ttotal: 17m 17s\tremaining: 6m 51s\n",
      "716:\tlearn: 0.4654345\ttotal: 17m 18s\tremaining: 6m 49s\n",
      "717:\tlearn: 0.4651495\ttotal: 17m 20s\tremaining: 6m 48s\n",
      "718:\tlearn: 0.4650008\ttotal: 17m 22s\tremaining: 6m 47s\n",
      "719:\tlearn: 0.4648700\ttotal: 17m 24s\tremaining: 6m 46s\n",
      "720:\tlearn: 0.4646666\ttotal: 17m 26s\tremaining: 6m 44s\n",
      "721:\tlearn: 0.4644690\ttotal: 17m 28s\tremaining: 6m 43s\n",
      "722:\tlearn: 0.4642115\ttotal: 17m 30s\tremaining: 6m 42s\n",
      "723:\tlearn: 0.4640181\ttotal: 17m 32s\tremaining: 6m 41s\n",
      "724:\tlearn: 0.4638683\ttotal: 17m 34s\tremaining: 6m 40s\n",
      "725:\tlearn: 0.4633958\ttotal: 17m 36s\tremaining: 6m 38s\n",
      "726:\tlearn: 0.4630364\ttotal: 17m 39s\tremaining: 6m 37s\n",
      "727:\tlearn: 0.4628315\ttotal: 17m 41s\tremaining: 6m 36s\n",
      "728:\tlearn: 0.4626210\ttotal: 17m 43s\tremaining: 6m 35s\n",
      "729:\tlearn: 0.4624433\ttotal: 17m 45s\tremaining: 6m 33s\n",
      "730:\tlearn: 0.4622902\ttotal: 17m 47s\tremaining: 6m 32s\n",
      "731:\tlearn: 0.4621976\ttotal: 17m 48s\tremaining: 6m 31s\n",
      "732:\tlearn: 0.4618043\ttotal: 17m 50s\tremaining: 6m 30s\n",
      "733:\tlearn: 0.4613868\ttotal: 17m 52s\tremaining: 6m 28s\n",
      "734:\tlearn: 0.4611544\ttotal: 17m 54s\tremaining: 6m 27s\n",
      "735:\tlearn: 0.4609692\ttotal: 17m 55s\tremaining: 6m 25s\n",
      "736:\tlearn: 0.4607782\ttotal: 17m 57s\tremaining: 6m 24s\n",
      "737:\tlearn: 0.4604067\ttotal: 17m 59s\tremaining: 6m 23s\n",
      "738:\tlearn: 0.4600528\ttotal: 18m 1s\tremaining: 6m 21s\n",
      "739:\tlearn: 0.4598494\ttotal: 18m 2s\tremaining: 6m 20s\n",
      "740:\tlearn: 0.4596753\ttotal: 18m 4s\tremaining: 6m 18s\n",
      "741:\tlearn: 0.4593226\ttotal: 18m 5s\tremaining: 6m 17s\n",
      "742:\tlearn: 0.4591645\ttotal: 18m 7s\tremaining: 6m 15s\n",
      "743:\tlearn: 0.4589777\ttotal: 18m 8s\tremaining: 6m 14s\n",
      "744:\tlearn: 0.4588349\ttotal: 18m 9s\tremaining: 6m 12s\n",
      "745:\tlearn: 0.4584952\ttotal: 18m 11s\tremaining: 6m 11s\n",
      "746:\tlearn: 0.4583064\ttotal: 18m 12s\tremaining: 6m 10s\n",
      "747:\tlearn: 0.4578395\ttotal: 18m 14s\tremaining: 6m 8s\n",
      "748:\tlearn: 0.4577034\ttotal: 18m 16s\tremaining: 6m 7s\n",
      "749:\tlearn: 0.4574683\ttotal: 18m 17s\tremaining: 6m 5s\n",
      "750:\tlearn: 0.4572802\ttotal: 18m 19s\tremaining: 6m 4s\n",
      "751:\tlearn: 0.4568015\ttotal: 18m 21s\tremaining: 6m 3s\n"
     ]
    },
    {
     "name": "stdout",
     "output_type": "stream",
     "text": [
      "752:\tlearn: 0.4566214\ttotal: 18m 22s\tremaining: 6m 1s\n",
      "753:\tlearn: 0.4561978\ttotal: 18m 24s\tremaining: 6m\n",
      "754:\tlearn: 0.4560201\ttotal: 18m 27s\tremaining: 5m 59s\n",
      "755:\tlearn: 0.4557414\ttotal: 18m 29s\tremaining: 5m 57s\n",
      "756:\tlearn: 0.4555886\ttotal: 18m 31s\tremaining: 5m 56s\n",
      "757:\tlearn: 0.4553663\ttotal: 18m 33s\tremaining: 5m 55s\n",
      "758:\tlearn: 0.4551554\ttotal: 18m 34s\tremaining: 5m 54s\n",
      "759:\tlearn: 0.4548971\ttotal: 18m 36s\tremaining: 5m 52s\n",
      "760:\tlearn: 0.4547116\ttotal: 18m 37s\tremaining: 5m 51s\n",
      "761:\tlearn: 0.4544932\ttotal: 18m 39s\tremaining: 5m 49s\n",
      "762:\tlearn: 0.4543202\ttotal: 18m 40s\tremaining: 5m 48s\n",
      "763:\tlearn: 0.4541368\ttotal: 18m 42s\tremaining: 5m 46s\n",
      "764:\tlearn: 0.4539871\ttotal: 18m 43s\tremaining: 5m 45s\n",
      "765:\tlearn: 0.4537432\ttotal: 18m 44s\tremaining: 5m 43s\n",
      "766:\tlearn: 0.4532576\ttotal: 18m 46s\tremaining: 5m 42s\n",
      "767:\tlearn: 0.4530670\ttotal: 18m 48s\tremaining: 5m 40s\n",
      "768:\tlearn: 0.4529139\ttotal: 18m 49s\tremaining: 5m 39s\n",
      "769:\tlearn: 0.4526875\ttotal: 18m 51s\tremaining: 5m 37s\n",
      "770:\tlearn: 0.4525423\ttotal: 18m 52s\tremaining: 5m 36s\n",
      "771:\tlearn: 0.4521057\ttotal: 18m 54s\tremaining: 5m 34s\n",
      "772:\tlearn: 0.4519179\ttotal: 18m 56s\tremaining: 5m 33s\n",
      "773:\tlearn: 0.4517791\ttotal: 18m 57s\tremaining: 5m 32s\n",
      "774:\tlearn: 0.4515923\ttotal: 18m 59s\tremaining: 5m 30s\n",
      "775:\tlearn: 0.4513721\ttotal: 19m 1s\tremaining: 5m 29s\n",
      "776:\tlearn: 0.4512267\ttotal: 19m 3s\tremaining: 5m 28s\n",
      "777:\tlearn: 0.4510130\ttotal: 19m 5s\tremaining: 5m 26s\n",
      "778:\tlearn: 0.4507968\ttotal: 19m 7s\tremaining: 5m 25s\n",
      "779:\tlearn: 0.4506124\ttotal: 19m 9s\tremaining: 5m 24s\n",
      "780:\tlearn: 0.4497641\ttotal: 19m 11s\tremaining: 5m 22s\n",
      "781:\tlearn: 0.4496009\ttotal: 19m 12s\tremaining: 5m 21s\n",
      "782:\tlearn: 0.4491281\ttotal: 19m 13s\tremaining: 5m 19s\n",
      "783:\tlearn: 0.4483521\ttotal: 19m 15s\tremaining: 5m 18s\n",
      "784:\tlearn: 0.4481770\ttotal: 19m 16s\tremaining: 5m 16s\n",
      "785:\tlearn: 0.4480261\ttotal: 19m 17s\tremaining: 5m 15s\n",
      "786:\tlearn: 0.4478692\ttotal: 19m 19s\tremaining: 5m 13s\n",
      "787:\tlearn: 0.4472920\ttotal: 19m 20s\tremaining: 5m 12s\n",
      "788:\tlearn: 0.4463957\ttotal: 19m 21s\tremaining: 5m 10s\n",
      "789:\tlearn: 0.4460757\ttotal: 19m 23s\tremaining: 5m 9s\n",
      "790:\tlearn: 0.4458443\ttotal: 19m 24s\tremaining: 5m 7s\n",
      "791:\tlearn: 0.4455068\ttotal: 19m 25s\tremaining: 5m 6s\n",
      "792:\tlearn: 0.4453283\ttotal: 19m 27s\tremaining: 5m 4s\n",
      "793:\tlearn: 0.4451209\ttotal: 19m 28s\tremaining: 5m 3s\n",
      "794:\tlearn: 0.4450032\ttotal: 19m 30s\tremaining: 5m 1s\n",
      "795:\tlearn: 0.4448076\ttotal: 19m 31s\tremaining: 5m\n",
      "796:\tlearn: 0.4446186\ttotal: 19m 32s\tremaining: 4m 58s\n",
      "797:\tlearn: 0.4444210\ttotal: 19m 34s\tremaining: 4m 57s\n",
      "798:\tlearn: 0.4443148\ttotal: 19m 35s\tremaining: 4m 55s\n",
      "799:\tlearn: 0.4441874\ttotal: 19m 36s\tremaining: 4m 54s\n",
      "800:\tlearn: 0.4436373\ttotal: 19m 38s\tremaining: 4m 52s\n",
      "801:\tlearn: 0.4435131\ttotal: 19m 39s\tremaining: 4m 51s\n",
      "802:\tlearn: 0.4433693\ttotal: 19m 40s\tremaining: 4m 49s\n",
      "803:\tlearn: 0.4432154\ttotal: 19m 42s\tremaining: 4m 48s\n",
      "804:\tlearn: 0.4429999\ttotal: 19m 43s\tremaining: 4m 46s\n",
      "805:\tlearn: 0.4424921\ttotal: 19m 44s\tremaining: 4m 45s\n",
      "806:\tlearn: 0.4423349\ttotal: 19m 46s\tremaining: 4m 43s\n",
      "807:\tlearn: 0.4421906\ttotal: 19m 47s\tremaining: 4m 42s\n",
      "808:\tlearn: 0.4420627\ttotal: 19m 48s\tremaining: 4m 40s\n",
      "809:\tlearn: 0.4418714\ttotal: 19m 50s\tremaining: 4m 39s\n",
      "810:\tlearn: 0.4417617\ttotal: 19m 51s\tremaining: 4m 37s\n",
      "811:\tlearn: 0.4410986\ttotal: 19m 52s\tremaining: 4m 36s\n",
      "812:\tlearn: 0.4408640\ttotal: 19m 54s\tremaining: 4m 34s\n",
      "813:\tlearn: 0.4407067\ttotal: 19m 55s\tremaining: 4m 33s\n",
      "814:\tlearn: 0.4404819\ttotal: 19m 56s\tremaining: 4m 31s\n",
      "815:\tlearn: 0.4403577\ttotal: 19m 58s\tremaining: 4m 30s\n",
      "816:\tlearn: 0.4401966\ttotal: 20m\tremaining: 4m 28s\n",
      "817:\tlearn: 0.4400590\ttotal: 20m 2s\tremaining: 4m 27s\n",
      "818:\tlearn: 0.4393809\ttotal: 20m 4s\tremaining: 4m 26s\n",
      "819:\tlearn: 0.4392304\ttotal: 20m 6s\tremaining: 4m 24s\n",
      "820:\tlearn: 0.4391233\ttotal: 20m 7s\tremaining: 4m 23s\n",
      "821:\tlearn: 0.4389708\ttotal: 20m 9s\tremaining: 4m 21s\n",
      "822:\tlearn: 0.4387538\ttotal: 20m 11s\tremaining: 4m 20s\n",
      "823:\tlearn: 0.4385860\ttotal: 20m 13s\tremaining: 4m 19s\n",
      "824:\tlearn: 0.4382981\ttotal: 20m 14s\tremaining: 4m 17s\n",
      "825:\tlearn: 0.4381965\ttotal: 20m 16s\tremaining: 4m 16s\n",
      "826:\tlearn: 0.4380539\ttotal: 20m 17s\tremaining: 4m 14s\n",
      "827:\tlearn: 0.4377910\ttotal: 20m 19s\tremaining: 4m 13s\n",
      "828:\tlearn: 0.4376573\ttotal: 20m 20s\tremaining: 4m 11s\n",
      "829:\tlearn: 0.4372222\ttotal: 20m 22s\tremaining: 4m 10s\n",
      "830:\tlearn: 0.4370699\ttotal: 20m 23s\tremaining: 4m 8s\n",
      "831:\tlearn: 0.4368808\ttotal: 20m 25s\tremaining: 4m 7s\n",
      "832:\tlearn: 0.4365593\ttotal: 20m 26s\tremaining: 4m 5s\n",
      "833:\tlearn: 0.4364224\ttotal: 20m 27s\tremaining: 4m 4s\n",
      "834:\tlearn: 0.4361506\ttotal: 20m 29s\tremaining: 4m 2s\n",
      "835:\tlearn: 0.4360240\ttotal: 20m 30s\tremaining: 4m 1s\n",
      "836:\tlearn: 0.4356188\ttotal: 20m 31s\tremaining: 3m 59s\n",
      "837:\tlearn: 0.4353948\ttotal: 20m 33s\tremaining: 3m 58s\n",
      "838:\tlearn: 0.4352277\ttotal: 20m 34s\tremaining: 3m 56s\n",
      "839:\tlearn: 0.4350314\ttotal: 20m 36s\tremaining: 3m 55s\n",
      "840:\tlearn: 0.4349476\ttotal: 20m 37s\tremaining: 3m 54s\n",
      "841:\tlearn: 0.4347902\ttotal: 20m 39s\tremaining: 3m 52s\n",
      "842:\tlearn: 0.4344543\ttotal: 20m 40s\tremaining: 3m 51s\n",
      "843:\tlearn: 0.4337951\ttotal: 20m 42s\tremaining: 3m 49s\n",
      "844:\tlearn: 0.4336054\ttotal: 20m 43s\tremaining: 3m 48s\n",
      "845:\tlearn: 0.4332105\ttotal: 20m 44s\tremaining: 3m 46s\n",
      "846:\tlearn: 0.4330116\ttotal: 20m 46s\tremaining: 3m 45s\n",
      "847:\tlearn: 0.4328082\ttotal: 20m 47s\tremaining: 3m 43s\n",
      "848:\tlearn: 0.4326614\ttotal: 20m 48s\tremaining: 3m 42s\n",
      "849:\tlearn: 0.4325183\ttotal: 20m 50s\tremaining: 3m 40s\n",
      "850:\tlearn: 0.4322879\ttotal: 20m 51s\tremaining: 3m 39s\n",
      "851:\tlearn: 0.4321042\ttotal: 20m 52s\tremaining: 3m 37s\n",
      "852:\tlearn: 0.4320097\ttotal: 20m 54s\tremaining: 3m 36s\n",
      "853:\tlearn: 0.4318573\ttotal: 20m 55s\tremaining: 3m 34s\n",
      "854:\tlearn: 0.4314362\ttotal: 20m 57s\tremaining: 3m 33s\n",
      "855:\tlearn: 0.4310817\ttotal: 20m 58s\tremaining: 3m 31s\n",
      "856:\tlearn: 0.4309591\ttotal: 20m 59s\tremaining: 3m 30s\n",
      "857:\tlearn: 0.4307918\ttotal: 21m 1s\tremaining: 3m 28s\n",
      "858:\tlearn: 0.4305193\ttotal: 21m 2s\tremaining: 3m 27s\n",
      "859:\tlearn: 0.4304332\ttotal: 21m 4s\tremaining: 3m 25s\n",
      "860:\tlearn: 0.4301485\ttotal: 21m 5s\tremaining: 3m 24s\n",
      "861:\tlearn: 0.4300019\ttotal: 21m 7s\tremaining: 3m 22s\n",
      "862:\tlearn: 0.4298778\ttotal: 21m 8s\tremaining: 3m 21s\n",
      "863:\tlearn: 0.4297722\ttotal: 21m 10s\tremaining: 3m 19s\n",
      "864:\tlearn: 0.4291809\ttotal: 21m 11s\tremaining: 3m 18s\n",
      "865:\tlearn: 0.4289277\ttotal: 21m 13s\tremaining: 3m 16s\n",
      "866:\tlearn: 0.4287727\ttotal: 21m 14s\tremaining: 3m 15s\n",
      "867:\tlearn: 0.4285382\ttotal: 21m 16s\tremaining: 3m 14s\n",
      "868:\tlearn: 0.4283624\ttotal: 21m 17s\tremaining: 3m 12s\n",
      "869:\tlearn: 0.4281726\ttotal: 21m 19s\tremaining: 3m 11s\n",
      "870:\tlearn: 0.4280376\ttotal: 21m 20s\tremaining: 3m 9s\n",
      "871:\tlearn: 0.4279089\ttotal: 21m 22s\tremaining: 3m 8s\n",
      "872:\tlearn: 0.4277421\ttotal: 21m 23s\tremaining: 3m 6s\n",
      "873:\tlearn: 0.4275504\ttotal: 21m 25s\tremaining: 3m 5s\n",
      "874:\tlearn: 0.4273474\ttotal: 21m 26s\tremaining: 3m 3s\n",
      "875:\tlearn: 0.4269661\ttotal: 21m 28s\tremaining: 3m 2s\n",
      "876:\tlearn: 0.4263896\ttotal: 21m 29s\tremaining: 3m\n",
      "877:\tlearn: 0.4260844\ttotal: 21m 30s\tremaining: 2m 59s\n",
      "878:\tlearn: 0.4259984\ttotal: 21m 32s\tremaining: 2m 57s\n",
      "879:\tlearn: 0.4258520\ttotal: 21m 33s\tremaining: 2m 56s\n",
      "880:\tlearn: 0.4256608\ttotal: 21m 35s\tremaining: 2m 54s\n",
      "881:\tlearn: 0.4254921\ttotal: 21m 36s\tremaining: 2m 53s\n",
      "882:\tlearn: 0.4252535\ttotal: 21m 37s\tremaining: 2m 51s\n",
      "883:\tlearn: 0.4250883\ttotal: 21m 39s\tremaining: 2m 50s\n",
      "884:\tlearn: 0.4248553\ttotal: 21m 40s\tremaining: 2m 49s\n",
      "885:\tlearn: 0.4247514\ttotal: 21m 42s\tremaining: 2m 47s\n",
      "886:\tlearn: 0.4245965\ttotal: 21m 43s\tremaining: 2m 46s\n",
      "887:\tlearn: 0.4244641\ttotal: 21m 45s\tremaining: 2m 44s\n",
      "888:\tlearn: 0.4243157\ttotal: 21m 46s\tremaining: 2m 43s\n",
      "889:\tlearn: 0.4241853\ttotal: 21m 48s\tremaining: 2m 41s\n",
      "890:\tlearn: 0.4240213\ttotal: 21m 49s\tremaining: 2m 40s\n",
      "891:\tlearn: 0.4236957\ttotal: 21m 51s\tremaining: 2m 38s\n",
      "892:\tlearn: 0.4234701\ttotal: 21m 52s\tremaining: 2m 37s\n",
      "893:\tlearn: 0.4233542\ttotal: 21m 54s\tremaining: 2m 35s\n",
      "894:\tlearn: 0.4231643\ttotal: 21m 55s\tremaining: 2m 34s\n",
      "895:\tlearn: 0.4229079\ttotal: 21m 57s\tremaining: 2m 32s\n",
      "896:\tlearn: 0.4227767\ttotal: 21m 58s\tremaining: 2m 31s\n",
      "897:\tlearn: 0.4223459\ttotal: 21m 59s\tremaining: 2m 29s\n",
      "898:\tlearn: 0.4220263\ttotal: 22m 1s\tremaining: 2m 28s\n",
      "899:\tlearn: 0.4218292\ttotal: 22m 2s\tremaining: 2m 26s\n",
      "900:\tlearn: 0.4216124\ttotal: 22m 4s\tremaining: 2m 25s\n",
      "901:\tlearn: 0.4212438\ttotal: 22m 5s\tremaining: 2m 24s\n"
     ]
    },
    {
     "name": "stdout",
     "output_type": "stream",
     "text": [
      "902:\tlearn: 0.4211260\ttotal: 22m 6s\tremaining: 2m 22s\n",
      "903:\tlearn: 0.4208897\ttotal: 22m 8s\tremaining: 2m 21s\n",
      "904:\tlearn: 0.4206786\ttotal: 22m 9s\tremaining: 2m 19s\n",
      "905:\tlearn: 0.4202140\ttotal: 22m 11s\tremaining: 2m 18s\n",
      "906:\tlearn: 0.4200609\ttotal: 22m 12s\tremaining: 2m 16s\n",
      "907:\tlearn: 0.4198753\ttotal: 22m 14s\tremaining: 2m 15s\n",
      "908:\tlearn: 0.4197449\ttotal: 22m 15s\tremaining: 2m 13s\n",
      "909:\tlearn: 0.4192184\ttotal: 22m 16s\tremaining: 2m 12s\n",
      "910:\tlearn: 0.4190614\ttotal: 22m 18s\tremaining: 2m 10s\n",
      "911:\tlearn: 0.4187792\ttotal: 22m 20s\tremaining: 2m 9s\n",
      "912:\tlearn: 0.4185335\ttotal: 22m 21s\tremaining: 2m 7s\n",
      "913:\tlearn: 0.4184016\ttotal: 22m 23s\tremaining: 2m 6s\n",
      "914:\tlearn: 0.4182756\ttotal: 22m 25s\tremaining: 2m 4s\n",
      "915:\tlearn: 0.4180049\ttotal: 22m 26s\tremaining: 2m 3s\n",
      "916:\tlearn: 0.4178841\ttotal: 22m 28s\tremaining: 2m 2s\n",
      "917:\tlearn: 0.4177464\ttotal: 22m 30s\tremaining: 2m\n",
      "918:\tlearn: 0.4175818\ttotal: 22m 31s\tremaining: 1m 59s\n",
      "919:\tlearn: 0.4174844\ttotal: 22m 33s\tremaining: 1m 57s\n",
      "920:\tlearn: 0.4173000\ttotal: 22m 35s\tremaining: 1m 56s\n",
      "921:\tlearn: 0.4167445\ttotal: 22m 36s\tremaining: 1m 54s\n",
      "922:\tlearn: 0.4165530\ttotal: 22m 38s\tremaining: 1m 53s\n",
      "923:\tlearn: 0.4163912\ttotal: 22m 39s\tremaining: 1m 51s\n",
      "924:\tlearn: 0.4162170\ttotal: 22m 41s\tremaining: 1m 50s\n",
      "925:\tlearn: 0.4157980\ttotal: 22m 42s\tremaining: 1m 48s\n",
      "926:\tlearn: 0.4156596\ttotal: 22m 44s\tremaining: 1m 47s\n",
      "927:\tlearn: 0.4153653\ttotal: 22m 45s\tremaining: 1m 45s\n",
      "928:\tlearn: 0.4151255\ttotal: 22m 47s\tremaining: 1m 44s\n",
      "929:\tlearn: 0.4149566\ttotal: 22m 48s\tremaining: 1m 42s\n",
      "930:\tlearn: 0.4148561\ttotal: 22m 49s\tremaining: 1m 41s\n",
      "931:\tlearn: 0.4147549\ttotal: 22m 51s\tremaining: 1m 40s\n",
      "932:\tlearn: 0.4146292\ttotal: 22m 52s\tremaining: 1m 38s\n",
      "933:\tlearn: 0.4143826\ttotal: 22m 54s\tremaining: 1m 37s\n",
      "934:\tlearn: 0.4141720\ttotal: 22m 55s\tremaining: 1m 35s\n",
      "935:\tlearn: 0.4140127\ttotal: 22m 56s\tremaining: 1m 34s\n",
      "936:\tlearn: 0.4138690\ttotal: 22m 58s\tremaining: 1m 32s\n",
      "937:\tlearn: 0.4137525\ttotal: 22m 59s\tremaining: 1m 31s\n",
      "938:\tlearn: 0.4136165\ttotal: 23m 1s\tremaining: 1m 29s\n",
      "939:\tlearn: 0.4131956\ttotal: 23m 2s\tremaining: 1m 28s\n",
      "940:\tlearn: 0.4130294\ttotal: 23m 4s\tremaining: 1m 26s\n",
      "941:\tlearn: 0.4126006\ttotal: 23m 5s\tremaining: 1m 25s\n",
      "942:\tlearn: 0.4123748\ttotal: 23m 7s\tremaining: 1m 23s\n",
      "943:\tlearn: 0.4122822\ttotal: 23m 8s\tremaining: 1m 22s\n",
      "944:\tlearn: 0.4121653\ttotal: 23m 10s\tremaining: 1m 20s\n",
      "945:\tlearn: 0.4115849\ttotal: 23m 11s\tremaining: 1m 19s\n",
      "946:\tlearn: 0.4114183\ttotal: 23m 12s\tremaining: 1m 17s\n",
      "947:\tlearn: 0.4113168\ttotal: 23m 14s\tremaining: 1m 16s\n",
      "948:\tlearn: 0.4110608\ttotal: 23m 15s\tremaining: 1m 15s\n",
      "949:\tlearn: 0.4102876\ttotal: 23m 17s\tremaining: 1m 13s\n",
      "950:\tlearn: 0.4101267\ttotal: 23m 18s\tremaining: 1m 12s\n",
      "951:\tlearn: 0.4097035\ttotal: 23m 20s\tremaining: 1m 10s\n",
      "952:\tlearn: 0.4095272\ttotal: 23m 21s\tremaining: 1m 9s\n",
      "953:\tlearn: 0.4093578\ttotal: 23m 22s\tremaining: 1m 7s\n",
      "954:\tlearn: 0.4091343\ttotal: 23m 24s\tremaining: 1m 6s\n",
      "955:\tlearn: 0.4089535\ttotal: 23m 25s\tremaining: 1m 4s\n",
      "956:\tlearn: 0.4087769\ttotal: 23m 27s\tremaining: 1m 3s\n",
      "957:\tlearn: 0.4085724\ttotal: 23m 28s\tremaining: 1m 1s\n",
      "958:\tlearn: 0.4084106\ttotal: 23m 30s\tremaining: 1m\n",
      "959:\tlearn: 0.4082529\ttotal: 23m 31s\tremaining: 58.8s\n",
      "960:\tlearn: 0.4080977\ttotal: 23m 33s\tremaining: 57.3s\n",
      "961:\tlearn: 0.4079445\ttotal: 23m 34s\tremaining: 55.9s\n",
      "962:\tlearn: 0.4077819\ttotal: 23m 36s\tremaining: 54.4s\n",
      "963:\tlearn: 0.4075940\ttotal: 23m 37s\tremaining: 52.9s\n",
      "964:\tlearn: 0.4074668\ttotal: 23m 38s\tremaining: 51.5s\n",
      "965:\tlearn: 0.4073155\ttotal: 23m 40s\tremaining: 50s\n",
      "966:\tlearn: 0.4071975\ttotal: 23m 41s\tremaining: 48.5s\n",
      "967:\tlearn: 0.4066486\ttotal: 23m 43s\tremaining: 47s\n",
      "968:\tlearn: 0.4064739\ttotal: 23m 44s\tremaining: 45.6s\n",
      "969:\tlearn: 0.4063588\ttotal: 23m 46s\tremaining: 44.1s\n",
      "970:\tlearn: 0.4062725\ttotal: 23m 47s\tremaining: 42.6s\n",
      "971:\tlearn: 0.4060723\ttotal: 23m 49s\tremaining: 41.2s\n",
      "972:\tlearn: 0.4059684\ttotal: 23m 50s\tremaining: 39.7s\n",
      "973:\tlearn: 0.4057085\ttotal: 23m 51s\tremaining: 38.2s\n",
      "974:\tlearn: 0.4056185\ttotal: 23m 53s\tremaining: 36.7s\n",
      "975:\tlearn: 0.4054426\ttotal: 23m 54s\tremaining: 35.3s\n",
      "976:\tlearn: 0.4052943\ttotal: 23m 56s\tremaining: 33.8s\n",
      "977:\tlearn: 0.4051737\ttotal: 23m 57s\tremaining: 32.3s\n",
      "978:\tlearn: 0.4049617\ttotal: 23m 59s\tremaining: 30.9s\n",
      "979:\tlearn: 0.4048554\ttotal: 24m\tremaining: 29.4s\n",
      "980:\tlearn: 0.4047065\ttotal: 24m 2s\tremaining: 27.9s\n",
      "981:\tlearn: 0.4045695\ttotal: 24m 3s\tremaining: 26.5s\n",
      "982:\tlearn: 0.4043161\ttotal: 24m 4s\tremaining: 25s\n",
      "983:\tlearn: 0.4037926\ttotal: 24m 6s\tremaining: 23.5s\n",
      "984:\tlearn: 0.4036714\ttotal: 24m 7s\tremaining: 22s\n",
      "985:\tlearn: 0.4035503\ttotal: 24m 9s\tremaining: 20.6s\n",
      "986:\tlearn: 0.4026180\ttotal: 24m 10s\tremaining: 19.1s\n",
      "987:\tlearn: 0.4024288\ttotal: 24m 11s\tremaining: 17.6s\n",
      "988:\tlearn: 0.4022944\ttotal: 24m 13s\tremaining: 16.2s\n",
      "989:\tlearn: 0.4016409\ttotal: 24m 14s\tremaining: 14.7s\n",
      "990:\tlearn: 0.4008666\ttotal: 24m 16s\tremaining: 13.2s\n",
      "991:\tlearn: 0.4006759\ttotal: 24m 17s\tremaining: 11.8s\n",
      "992:\tlearn: 0.4005027\ttotal: 24m 18s\tremaining: 10.3s\n",
      "993:\tlearn: 0.4003287\ttotal: 24m 20s\tremaining: 8.81s\n",
      "994:\tlearn: 0.4002141\ttotal: 24m 21s\tremaining: 7.34s\n",
      "995:\tlearn: 0.3999095\ttotal: 24m 22s\tremaining: 5.88s\n",
      "996:\tlearn: 0.3997054\ttotal: 24m 24s\tremaining: 4.41s\n",
      "997:\tlearn: 0.3994544\ttotal: 24m 25s\tremaining: 2.94s\n",
      "998:\tlearn: 0.3993581\ttotal: 24m 27s\tremaining: 1.47s\n",
      "999:\tlearn: 0.3992188\ttotal: 24m 28s\tremaining: 0us\n"
     ]
    },
    {
     "data": {
      "text/plain": [
       "Pipeline(steps=[('tf',\n",
       "                 TfidfVectorizer(min_df=5, ngram_range=(1, 2),\n",
       "                                 stop_words='english', sublinear_tf=True)),\n",
       "                ('clf',\n",
       "                 <catboost.core.CatBoostClassifier object at 0x0000022BB9899850>)])"
      ]
     },
     "execution_count": 53,
     "metadata": {},
     "output_type": "execute_result"
    }
   ],
   "source": [
    "text_clf.fit(X_train, y_train)"
   ]
  },
  {
   "cell_type": "code",
   "execution_count": 54,
   "metadata": {
    "id": "buQivOSlz9qn"
   },
   "outputs": [
    {
     "data": {
      "text/plain": [
       "array(['Credit reporting'], dtype=object)"
      ]
     },
     "execution_count": 54,
     "metadata": {},
     "output_type": "execute_result"
    }
   ],
   "source": [
    "text_clf.predict(['I have outdated information on my credit repor'])[0]"
   ]
  },
  {
   "cell_type": "code",
   "execution_count": 55,
   "metadata": {
    "id": "CrqXmz6-z9qn"
   },
   "outputs": [],
   "source": [
    "y_pred=text_clf.predict(X_test)"
   ]
  },
  {
   "cell_type": "code",
   "execution_count": 56,
   "metadata": {
    "id": "w6L8X_6tQIyB"
   },
   "outputs": [
    {
     "data": {
      "text/plain": [
       "array([['Credit card'],\n",
       "       ['Credit card'],\n",
       "       ['Debt collection'],\n",
       "       ['Debt collection'],\n",
       "       ['Mortgage'],\n",
       "       ['Credit reporting'],\n",
       "       ['Student loan'],\n",
       "       ['Credit card'],\n",
       "       ['Debt collection'],\n",
       "       ['Bank account or service'],\n",
       "       ['Mortgage'],\n",
       "       ['Bank account or service'],\n",
       "       ['Mortgage'],\n",
       "       ['Debt collection'],\n",
       "       ['Debt collection'],\n",
       "       ['Mortgage'],\n",
       "       ['Mortgage'],\n",
       "       ['Mortgage'],\n",
       "       ['Mortgage'],\n",
       "       ['Mortgage'],\n",
       "       ['Debt collection'],\n",
       "       ['Mortgage'],\n",
       "       ['Credit reporting'],\n",
       "       ['Debt collection'],\n",
       "       ['Credit reporting'],\n",
       "       ['Credit reporting'],\n",
       "       ['Debt collection'],\n",
       "       ['Credit reporting'],\n",
       "       ['Bank account or service'],\n",
       "       ['Credit card'],\n",
       "       ['Credit reporting'],\n",
       "       ['Credit reporting'],\n",
       "       ['Bank account or service'],\n",
       "       ['Bank account or service'],\n",
       "       ['Credit card'],\n",
       "       ['Bank account or service'],\n",
       "       ['Credit card'],\n",
       "       ['Debt collection'],\n",
       "       ['Debt collection'],\n",
       "       ['Credit card'],\n",
       "       ['Mortgage'],\n",
       "       ['Student loan'],\n",
       "       ['Mortgage'],\n",
       "       ['Bank account or service'],\n",
       "       ['Credit card'],\n",
       "       ['Credit card'],\n",
       "       ['Mortgage'],\n",
       "       ['Credit reporting'],\n",
       "       ['Credit reporting'],\n",
       "       ['Credit card'],\n",
       "       ['Credit card'],\n",
       "       ['Debt collection'],\n",
       "       ['Credit reporting'],\n",
       "       ['Credit card'],\n",
       "       ['Bank account or service'],\n",
       "       ['Credit reporting'],\n",
       "       ['Credit reporting'],\n",
       "       ['Student loan'],\n",
       "       ['Consumer Loan'],\n",
       "       ['Credit reporting'],\n",
       "       ['Credit reporting'],\n",
       "       ['Mortgage'],\n",
       "       ['Consumer Loan'],\n",
       "       ['Credit card'],\n",
       "       ['Mortgage'],\n",
       "       ['Mortgage'],\n",
       "       ['Credit card'],\n",
       "       ['Debt collection'],\n",
       "       ['Debt collection'],\n",
       "       ['Debt collection'],\n",
       "       ['Mortgage'],\n",
       "       ['Credit card'],\n",
       "       ['Debt collection'],\n",
       "       ['Debt collection'],\n",
       "       ['Consumer Loan'],\n",
       "       ['Credit reporting'],\n",
       "       ['Credit reporting'],\n",
       "       ['Mortgage'],\n",
       "       ['Bank account or service'],\n",
       "       ['Mortgage'],\n",
       "       ['Mortgage'],\n",
       "       ['Mortgage'],\n",
       "       ['Mortgage'],\n",
       "       ['Mortgage'],\n",
       "       ['Credit reporting'],\n",
       "       ['Debt collection'],\n",
       "       ['Debt collection'],\n",
       "       ['Credit card'],\n",
       "       ['Student loan'],\n",
       "       ['Mortgage'],\n",
       "       ['Debt collection'],\n",
       "       ['Bank account or service'],\n",
       "       ['Mortgage'],\n",
       "       ['Credit card'],\n",
       "       ['Debt collection'],\n",
       "       ['Bank account or service'],\n",
       "       ['Credit reporting'],\n",
       "       ['Credit card'],\n",
       "       ['Credit reporting'],\n",
       "       ['Debt collection'],\n",
       "       ['Credit card'],\n",
       "       ['Debt collection'],\n",
       "       ['Mortgage'],\n",
       "       ['Mortgage'],\n",
       "       ['Bank account or service'],\n",
       "       ['Bank account or service'],\n",
       "       ['Bank account or service'],\n",
       "       ['Credit reporting'],\n",
       "       ['Mortgage'],\n",
       "       ['Bank account or service'],\n",
       "       ['Mortgage'],\n",
       "       ['Bank account or service'],\n",
       "       ['Credit reporting'],\n",
       "       ['Consumer Loan'],\n",
       "       ['Credit reporting'],\n",
       "       ['Student loan'],\n",
       "       ['Student loan'],\n",
       "       ['Debt collection'],\n",
       "       ['Credit card'],\n",
       "       ['Debt collection'],\n",
       "       ['Credit reporting'],\n",
       "       ['Consumer Loan'],\n",
       "       ['Credit reporting'],\n",
       "       ['Credit card'],\n",
       "       ['Credit card'],\n",
       "       ['Student loan'],\n",
       "       ['Credit card'],\n",
       "       ['Credit reporting'],\n",
       "       ['Mortgage'],\n",
       "       ['Mortgage'],\n",
       "       ['Credit card'],\n",
       "       ['Credit reporting'],\n",
       "       ['Debt collection'],\n",
       "       ['Mortgage'],\n",
       "       ['Student loan'],\n",
       "       ['Debt collection'],\n",
       "       ['Mortgage'],\n",
       "       ['Credit reporting'],\n",
       "       ['Credit reporting'],\n",
       "       ['Student loan'],\n",
       "       ['Debt collection'],\n",
       "       ['Credit card'],\n",
       "       ['Credit reporting'],\n",
       "       ['Mortgage'],\n",
       "       ['Debt collection'],\n",
       "       ['Credit card'],\n",
       "       ['Credit reporting'],\n",
       "       ['Mortgage'],\n",
       "       ['Debt collection'],\n",
       "       ['Credit reporting'],\n",
       "       ['Debt collection'],\n",
       "       ['Credit card'],\n",
       "       ['Student loan'],\n",
       "       ['Credit card'],\n",
       "       ['Bank account or service'],\n",
       "       ['Mortgage'],\n",
       "       ['Bank account or service'],\n",
       "       ['Debt collection'],\n",
       "       ['Credit reporting'],\n",
       "       ['Mortgage'],\n",
       "       ['Credit reporting'],\n",
       "       ['Mortgage'],\n",
       "       ['Debt collection'],\n",
       "       ['Debt collection'],\n",
       "       ['Credit reporting'],\n",
       "       ['Credit reporting'],\n",
       "       ['Credit reporting'],\n",
       "       ['Mortgage'],\n",
       "       ['Debt collection'],\n",
       "       ['Bank account or service'],\n",
       "       ['Mortgage'],\n",
       "       ['Credit reporting'],\n",
       "       ['Credit reporting'],\n",
       "       ['Mortgage'],\n",
       "       ['Student loan'],\n",
       "       ['Credit card'],\n",
       "       ['Mortgage'],\n",
       "       ['Credit card'],\n",
       "       ['Credit reporting'],\n",
       "       ['Credit reporting'],\n",
       "       ['Mortgage'],\n",
       "       ['Debt collection'],\n",
       "       ['Bank account or service'],\n",
       "       ['Mortgage'],\n",
       "       ['Credit reporting'],\n",
       "       ['Credit card'],\n",
       "       ['Credit reporting'],\n",
       "       ['Student loan'],\n",
       "       ['Bank account or service'],\n",
       "       ['Credit card'],\n",
       "       ['Debt collection'],\n",
       "       ['Credit reporting'],\n",
       "       ['Mortgage'],\n",
       "       ['Mortgage'],\n",
       "       ['Debt collection'],\n",
       "       ['Bank account or service'],\n",
       "       ['Mortgage'],\n",
       "       ['Debt collection'],\n",
       "       ['Credit card'],\n",
       "       ['Mortgage'],\n",
       "       ['Debt collection'],\n",
       "       ['Debt collection'],\n",
       "       ['Debt collection'],\n",
       "       ['Mortgage'],\n",
       "       ['Debt collection'],\n",
       "       ['Debt collection'],\n",
       "       ['Credit reporting'],\n",
       "       ['Mortgage'],\n",
       "       ['Mortgage'],\n",
       "       ['Mortgage'],\n",
       "       ['Mortgage'],\n",
       "       ['Student loan'],\n",
       "       ['Credit card'],\n",
       "       ['Mortgage'],\n",
       "       ['Mortgage'],\n",
       "       ['Consumer Loan'],\n",
       "       ['Mortgage'],\n",
       "       ['Credit reporting'],\n",
       "       ['Debt collection'],\n",
       "       ['Mortgage'],\n",
       "       ['Mortgage'],\n",
       "       ['Debt collection'],\n",
       "       ['Student loan'],\n",
       "       ['Debt collection'],\n",
       "       ['Student loan'],\n",
       "       ['Credit card'],\n",
       "       ['Debt collection'],\n",
       "       ['Credit card'],\n",
       "       ['Debt collection'],\n",
       "       ['Credit reporting'],\n",
       "       ['Consumer Loan'],\n",
       "       ['Mortgage'],\n",
       "       ['Mortgage'],\n",
       "       ['Student loan'],\n",
       "       ['Credit card'],\n",
       "       ['Mortgage'],\n",
       "       ['Credit reporting'],\n",
       "       ['Mortgage'],\n",
       "       ['Mortgage'],\n",
       "       ['Credit card'],\n",
       "       ['Credit card'],\n",
       "       ['Debt collection'],\n",
       "       ['Debt collection'],\n",
       "       ['Bank account or service'],\n",
       "       ['Credit reporting'],\n",
       "       ['Bank account or service'],\n",
       "       ['Debt collection'],\n",
       "       ['Credit card'],\n",
       "       ['Debt collection'],\n",
       "       ['Debt collection'],\n",
       "       ['Bank account or service'],\n",
       "       ['Mortgage'],\n",
       "       ['Consumer Loan'],\n",
       "       ['Mortgage'],\n",
       "       ['Bank account or service'],\n",
       "       ['Bank account or service'],\n",
       "       ['Mortgage'],\n",
       "       ['Student loan'],\n",
       "       ['Credit reporting'],\n",
       "       ['Bank account or service'],\n",
       "       ['Debt collection'],\n",
       "       ['Debt collection'],\n",
       "       ['Mortgage'],\n",
       "       ['Debt collection'],\n",
       "       ['Debt collection'],\n",
       "       ['Credit reporting'],\n",
       "       ['Bank account or service'],\n",
       "       ['Debt collection'],\n",
       "       ['Debt collection'],\n",
       "       ['Debt collection'],\n",
       "       ['Credit card'],\n",
       "       ['Credit reporting'],\n",
       "       ['Credit reporting'],\n",
       "       ['Debt collection'],\n",
       "       ['Debt collection'],\n",
       "       ['Mortgage'],\n",
       "       ['Debt collection'],\n",
       "       ['Debt collection'],\n",
       "       ['Mortgage'],\n",
       "       ['Credit card'],\n",
       "       ['Student loan'],\n",
       "       ['Student loan'],\n",
       "       ['Credit reporting'],\n",
       "       ['Bank account or service'],\n",
       "       ['Debt collection'],\n",
       "       ['Debt collection'],\n",
       "       ['Mortgage'],\n",
       "       ['Debt collection'],\n",
       "       ['Mortgage'],\n",
       "       ['Bank account or service'],\n",
       "       ['Mortgage'],\n",
       "       ['Student loan'],\n",
       "       ['Debt collection'],\n",
       "       ['Credit card'],\n",
       "       ['Bank account or service'],\n",
       "       ['Mortgage'],\n",
       "       ['Credit reporting'],\n",
       "       ['Mortgage'],\n",
       "       ['Debt collection'],\n",
       "       ['Credit card'],\n",
       "       ['Debt collection'],\n",
       "       ['Credit card'],\n",
       "       ['Debt collection'],\n",
       "       ['Bank account or service'],\n",
       "       ['Consumer Loan'],\n",
       "       ['Credit reporting'],\n",
       "       ['Credit reporting'],\n",
       "       ['Debt collection'],\n",
       "       ['Mortgage'],\n",
       "       ['Credit card'],\n",
       "       ['Credit reporting'],\n",
       "       ['Credit card'],\n",
       "       ['Credit card'],\n",
       "       ['Bank account or service'],\n",
       "       ['Credit reporting'],\n",
       "       ['Debt collection'],\n",
       "       ['Debt collection'],\n",
       "       ['Debt collection'],\n",
       "       ['Debt collection'],\n",
       "       ['Debt collection'],\n",
       "       ['Credit card'],\n",
       "       ['Bank account or service'],\n",
       "       ['Mortgage'],\n",
       "       ['Credit card'],\n",
       "       ['Credit reporting'],\n",
       "       ['Credit reporting'],\n",
       "       ['Credit card'],\n",
       "       ['Credit reporting'],\n",
       "       ['Debt collection'],\n",
       "       ['Debt collection'],\n",
       "       ['Debt collection'],\n",
       "       ['Credit reporting'],\n",
       "       ['Credit reporting'],\n",
       "       ['Credit reporting'],\n",
       "       ['Debt collection'],\n",
       "       ['Credit card'],\n",
       "       ['Debt collection'],\n",
       "       ['Mortgage'],\n",
       "       ['Mortgage'],\n",
       "       ['Credit reporting'],\n",
       "       ['Debt collection'],\n",
       "       ['Debt collection'],\n",
       "       ['Credit card'],\n",
       "       ['Credit reporting'],\n",
       "       ['Debt collection'],\n",
       "       ['Debt collection'],\n",
       "       ['Student loan'],\n",
       "       ['Credit card'],\n",
       "       ['Debt collection'],\n",
       "       ['Credit card'],\n",
       "       ['Debt collection'],\n",
       "       ['Mortgage'],\n",
       "       ['Debt collection'],\n",
       "       ['Bank account or service'],\n",
       "       ['Credit card'],\n",
       "       ['Debt collection'],\n",
       "       ['Mortgage'],\n",
       "       ['Credit card'],\n",
       "       ['Credit reporting'],\n",
       "       ['Debt collection'],\n",
       "       ['Student loan'],\n",
       "       ['Debt collection'],\n",
       "       ['Debt collection'],\n",
       "       ['Consumer Loan'],\n",
       "       ['Student loan'],\n",
       "       ['Mortgage'],\n",
       "       ['Mortgage'],\n",
       "       ['Student loan'],\n",
       "       ['Credit card'],\n",
       "       ['Mortgage'],\n",
       "       ['Student loan'],\n",
       "       ['Credit card'],\n",
       "       ['Debt collection'],\n",
       "       ['Mortgage'],\n",
       "       ['Mortgage'],\n",
       "       ['Debt collection'],\n",
       "       ['Mortgage'],\n",
       "       ['Debt collection'],\n",
       "       ['Mortgage'],\n",
       "       ['Mortgage'],\n",
       "       ['Debt collection'],\n",
       "       ['Credit reporting'],\n",
       "       ['Credit reporting'],\n",
       "       ['Debt collection'],\n",
       "       ['Bank account or service'],\n",
       "       ['Student loan'],\n",
       "       ['Debt collection'],\n",
       "       ['Bank account or service'],\n",
       "       ['Credit reporting'],\n",
       "       ['Credit card'],\n",
       "       ['Credit reporting'],\n",
       "       ['Credit card'],\n",
       "       ['Debt collection'],\n",
       "       ['Credit card'],\n",
       "       ['Credit card'],\n",
       "       ['Debt collection'],\n",
       "       ['Debt collection'],\n",
       "       ['Mortgage'],\n",
       "       ['Student loan'],\n",
       "       ['Debt collection'],\n",
       "       ['Credit card'],\n",
       "       ['Bank account or service'],\n",
       "       ['Mortgage'],\n",
       "       ['Credit reporting'],\n",
       "       ['Debt collection'],\n",
       "       ['Credit reporting'],\n",
       "       ['Credit reporting'],\n",
       "       ['Bank account or service'],\n",
       "       ['Credit reporting'],\n",
       "       ['Mortgage'],\n",
       "       ['Debt collection'],\n",
       "       ['Credit card'],\n",
       "       ['Mortgage'],\n",
       "       ['Debt collection'],\n",
       "       ['Credit reporting'],\n",
       "       ['Credit reporting'],\n",
       "       ['Credit reporting'],\n",
       "       ['Debt collection'],\n",
       "       ['Credit card'],\n",
       "       ['Bank account or service'],\n",
       "       ['Bank account or service'],\n",
       "       ['Bank account or service'],\n",
       "       ['Mortgage'],\n",
       "       ['Credit card'],\n",
       "       ['Credit reporting'],\n",
       "       ['Debt collection'],\n",
       "       ['Credit reporting'],\n",
       "       ['Credit reporting'],\n",
       "       ['Mortgage'],\n",
       "       ['Debt collection'],\n",
       "       ['Debt collection'],\n",
       "       ['Debt collection'],\n",
       "       ['Debt collection'],\n",
       "       ['Mortgage'],\n",
       "       ['Mortgage'],\n",
       "       ['Mortgage'],\n",
       "       ['Mortgage'],\n",
       "       ['Debt collection'],\n",
       "       ['Debt collection'],\n",
       "       ['Debt collection'],\n",
       "       ['Bank account or service'],\n",
       "       ['Consumer Loan'],\n",
       "       ['Credit reporting'],\n",
       "       ['Credit card'],\n",
       "       ['Mortgage'],\n",
       "       ['Mortgage'],\n",
       "       ['Mortgage'],\n",
       "       ['Credit reporting'],\n",
       "       ['Debt collection'],\n",
       "       ['Mortgage'],\n",
       "       ['Credit card'],\n",
       "       ['Student loan'],\n",
       "       ['Credit reporting'],\n",
       "       ['Debt collection'],\n",
       "       ['Debt collection'],\n",
       "       ['Mortgage'],\n",
       "       ['Debt collection'],\n",
       "       ['Credit card'],\n",
       "       ['Debt collection'],\n",
       "       ['Debt collection'],\n",
       "       ['Credit reporting'],\n",
       "       ['Bank account or service'],\n",
       "       ['Consumer Loan'],\n",
       "       ['Consumer Loan'],\n",
       "       ['Credit reporting'],\n",
       "       ['Debt collection'],\n",
       "       ['Credit reporting'],\n",
       "       ['Credit card'],\n",
       "       ['Debt collection'],\n",
       "       ['Debt collection'],\n",
       "       ['Debt collection'],\n",
       "       ['Mortgage'],\n",
       "       ['Debt collection'],\n",
       "       ['Mortgage'],\n",
       "       ['Student loan'],\n",
       "       ['Debt collection'],\n",
       "       ['Debt collection'],\n",
       "       ['Credit card'],\n",
       "       ['Credit reporting'],\n",
       "       ['Mortgage'],\n",
       "       ['Credit reporting'],\n",
       "       ['Credit reporting'],\n",
       "       ['Credit reporting'],\n",
       "       ['Debt collection'],\n",
       "       ['Debt collection'],\n",
       "       ['Credit reporting'],\n",
       "       ['Mortgage'],\n",
       "       ['Student loan'],\n",
       "       ['Debt collection'],\n",
       "       ['Mortgage'],\n",
       "       ['Mortgage'],\n",
       "       ['Bank account or service'],\n",
       "       ['Mortgage'],\n",
       "       ['Debt collection'],\n",
       "       ['Bank account or service'],\n",
       "       ['Mortgage'],\n",
       "       ['Credit reporting'],\n",
       "       ['Mortgage'],\n",
       "       ['Credit reporting'],\n",
       "       ['Mortgage'],\n",
       "       ['Debt collection'],\n",
       "       ['Debt collection'],\n",
       "       ['Debt collection'],\n",
       "       ['Debt collection'],\n",
       "       ['Mortgage'],\n",
       "       ['Debt collection'],\n",
       "       ['Bank account or service'],\n",
       "       ['Consumer Loan'],\n",
       "       ['Credit reporting'],\n",
       "       ['Bank account or service'],\n",
       "       ['Student loan'],\n",
       "       ['Credit reporting'],\n",
       "       ['Debt collection'],\n",
       "       ['Mortgage'],\n",
       "       ['Debt collection'],\n",
       "       ['Credit reporting'],\n",
       "       ['Mortgage'],\n",
       "       ['Debt collection'],\n",
       "       ['Debt collection'],\n",
       "       ['Credit card'],\n",
       "       ['Student loan'],\n",
       "       ['Bank account or service'],\n",
       "       ['Bank account or service'],\n",
       "       ['Mortgage'],\n",
       "       ['Credit card'],\n",
       "       ['Student loan'],\n",
       "       ['Credit reporting'],\n",
       "       ['Credit card'],\n",
       "       ['Student loan']], dtype=object)"
      ]
     },
     "execution_count": 56,
     "metadata": {},
     "output_type": "execute_result"
    }
   ],
   "source": [
    "y_pred"
   ]
  },
  {
   "cell_type": "code",
   "execution_count": 57,
   "metadata": {
    "id": "mlI68pkXz9qn"
   },
   "outputs": [
    {
     "name": "stdout",
     "output_type": "stream",
     "text": [
      "                                                                              precision    recall  f1-score   support\n",
      "\n",
      "                                                     Bank account or service       0.65      0.75      0.69        44\n",
      "                                                               Consumer Loan       0.79      0.52      0.63        21\n",
      "                                                                 Credit card       0.75      0.78      0.76        72\n",
      "                                                            Credit reporting       0.79      0.85      0.81        91\n",
      "Credit reporting, credit repair services, or other personal consumer reports       0.00      0.00      0.00         2\n",
      "                                                             Debt collection       0.72      0.82      0.77       124\n",
      "                                                             Money transfers       0.00      0.00      0.00        11\n",
      "                                                                    Mortgage       0.86      0.88      0.87       113\n",
      "                                                     Other financial service       0.00      0.00      0.00         1\n",
      "                                                                 Payday loan       0.00      0.00      0.00         8\n",
      "                                                                Prepaid card       0.00      0.00      0.00         8\n",
      "                                                                Student loan       0.88      0.88      0.88        34\n",
      "\n",
      "                                                                    accuracy                           0.77       529\n",
      "                                                                   macro avg       0.45      0.46      0.45       529\n",
      "                                                                weighted avg       0.73      0.77      0.75       529\n",
      "\n"
     ]
    },
    {
     "name": "stderr",
     "output_type": "stream",
     "text": [
      "C:\\Users\\ABHISHEK\\anaconda3\\lib\\site-packages\\sklearn\\metrics\\_classification.py:1318: UndefinedMetricWarning: Precision and F-score are ill-defined and being set to 0.0 in labels with no predicted samples. Use `zero_division` parameter to control this behavior.\n",
      "  _warn_prf(average, modifier, msg_start, len(result))\n",
      "C:\\Users\\ABHISHEK\\anaconda3\\lib\\site-packages\\sklearn\\metrics\\_classification.py:1318: UndefinedMetricWarning: Precision and F-score are ill-defined and being set to 0.0 in labels with no predicted samples. Use `zero_division` parameter to control this behavior.\n",
      "  _warn_prf(average, modifier, msg_start, len(result))\n",
      "C:\\Users\\ABHISHEK\\anaconda3\\lib\\site-packages\\sklearn\\metrics\\_classification.py:1318: UndefinedMetricWarning: Precision and F-score are ill-defined and being set to 0.0 in labels with no predicted samples. Use `zero_division` parameter to control this behavior.\n",
      "  _warn_prf(average, modifier, msg_start, len(result))\n"
     ]
    }
   ],
   "source": [
    "print(metrics.classification_report(y_test,y_pred))"
   ]
  },
  {
   "cell_type": "code",
   "execution_count": null,
   "metadata": {
    "id": "hD15fpYKxruE"
   },
   "outputs": [
    {
     "name": "stderr",
     "output_type": "stream",
     "text": [
      "C:\\Users\\ABHISHEK\\anaconda3\\lib\\site-packages\\sklearn\\model_selection\\_split.py:676: UserWarning: The least populated class in y has only 1 members, which is less than n_splits=5.\n",
      "  warnings.warn(\n"
     ]
    }
   ],
   "source": [
    "cv_results = cross_val_score(text_clf, \n",
    "                                 X_train, y_train, \n",
    "                                 cv=5,\n",
    "                                 scoring=\"accuracy\",\n",
    "                                 n_jobs=-1)\n",
    "print(np.mean(cv_results))"
   ]
  },
  {
   "cell_type": "code",
   "execution_count": null,
   "metadata": {
    "id": "E_YyovD64vjT"
   },
   "outputs": [],
   "source": [
    "from sklearn.ensemble import RandomForestClassifier"
   ]
  },
  {
   "cell_type": "code",
   "execution_count": null,
   "metadata": {
    "id": "gHpseA3nNzVx"
   },
   "outputs": [],
   "source": [
    "rf=RandomForestClassifier()"
   ]
  },
  {
   "cell_type": "code",
   "execution_count": null,
   "metadata": {
    "id": "UQcOOA3u-vUi"
   },
   "outputs": [],
   "source": [
    "text_clf=Pipeline([('tf',TfidfVectorizer(sublinear_tf= True, \n",
    "                       min_df = 5, \n",
    "                       norm= 'l2', \n",
    "                       ngram_range= (1,2), \n",
    "                       stop_words ='english') ),\n",
    "                 ('clf',RandomForestClassifier())])"
   ]
  },
  {
   "cell_type": "code",
   "execution_count": null,
   "metadata": {
    "id": "RgdI0uPH-vRb"
   },
   "outputs": [],
   "source": [
    "text_clf.fit(X_train, y_train)"
   ]
  },
  {
   "cell_type": "code",
   "execution_count": null,
   "metadata": {
    "id": "kqOAlc87-7VA"
   },
   "outputs": [],
   "source": [
    "text_clf.predict(['I have outdated information on my credit repor'])[0]"
   ]
  },
  {
   "cell_type": "code",
   "execution_count": null,
   "metadata": {
    "id": "7IPhEGuc-7R7"
   },
   "outputs": [],
   "source": [
    "y_pred=text_clf.predict(X_test)"
   ]
  },
  {
   "cell_type": "code",
   "execution_count": null,
   "metadata": {
    "id": "ygfj7XAu-7OF"
   },
   "outputs": [],
   "source": [
    "print(metrics.classification_report(y_test,y_pred))"
   ]
  },
  {
   "cell_type": "code",
   "execution_count": null,
   "metadata": {
    "id": "AxXoL8v6-7MC"
   },
   "outputs": [],
   "source": [
    "cv_results = cross_val_score(text_clf, \n",
    "                                 X_train, y_train, \n",
    "                                 cv=5,\n",
    "                                 scoring=\"accuracy\",\n",
    "                                 n_jobs=-1)"
   ]
  },
  {
   "cell_type": "code",
   "execution_count": null,
   "metadata": {
    "id": "pjJMTcUs_fuA"
   },
   "outputs": [],
   "source": [
    "print(np.mean(cv_results))"
   ]
  },
  {
   "cell_type": "code",
   "execution_count": null,
   "metadata": {
    "id": "5NQtUdCi492w"
   },
   "outputs": [],
   "source": []
  },
  {
   "cell_type": "code",
   "execution_count": null,
   "metadata": {
    "id": "UDUQJ2Ge49zP"
   },
   "outputs": [],
   "source": [
    "from xgboost import XGBClassifier"
   ]
  },
  {
   "cell_type": "code",
   "execution_count": null,
   "metadata": {
    "id": "lkLkzzNZ49u1"
   },
   "outputs": [],
   "source": [
    "text_clf=Pipeline([('tf',TfidfVectorizer(sublinear_tf= True, \n",
    "                       min_df = 5, \n",
    "                       norm= 'l2', \n",
    "                       ngram_range= (1,2), \n",
    "                       stop_words ='english') ),\n",
    "                 ('clf',XGBClassifier())])"
   ]
  },
  {
   "cell_type": "code",
   "execution_count": null,
   "metadata": {
    "id": "xnRI9FvI49sI"
   },
   "outputs": [],
   "source": [
    "text_clf.fit(X_train, y_train)"
   ]
  },
  {
   "cell_type": "code",
   "execution_count": null,
   "metadata": {
    "id": "GeuKaLOs_fq4"
   },
   "outputs": [],
   "source": [
    "y_pred=text_clf.predict(X_test)"
   ]
  },
  {
   "cell_type": "code",
   "execution_count": null,
   "metadata": {
    "id": "pqCfcLSQ5UAt"
   },
   "outputs": [],
   "source": [
    "print(metrics.classification_report(y_test,y_pred))"
   ]
  },
  {
   "cell_type": "code",
   "execution_count": null,
   "metadata": {
    "id": "wKt05Ogp5T-E"
   },
   "outputs": [],
   "source": [
    "cv_results = cross_val_score(text_clf, \n",
    "                                 X_train, y_train, \n",
    "                                 cv=5,\n",
    "                                 scoring=\"accuracy\",\n",
    "                                 n_jobs=-1)"
   ]
  },
  {
   "cell_type": "code",
   "execution_count": null,
   "metadata": {
    "id": "OmFbBEOc5T6D"
   },
   "outputs": [],
   "source": [
    "print(np.mean(cv_results))"
   ]
  },
  {
   "cell_type": "code",
   "execution_count": null,
   "metadata": {
    "id": "mua_FgAk5T3X"
   },
   "outputs": [],
   "source": []
  },
  {
   "cell_type": "code",
   "execution_count": null,
   "metadata": {
    "id": "5YuVNUKK5amA"
   },
   "outputs": [],
   "source": [
    "from lightgbm import LGBMClassifier"
   ]
  },
  {
   "cell_type": "code",
   "execution_count": null,
   "metadata": {
    "id": "OueELokd5ais"
   },
   "outputs": [],
   "source": [
    "text_clf=Pipeline([('tf',TfidfVectorizer(sublinear_tf= True, \n",
    "                       min_df = 5, \n",
    "                       norm= 'l2', \n",
    "                       ngram_range= (1,2), \n",
    "                       stop_words ='english') ),\n",
    "                 ('clf',LGBMClassifier())])"
   ]
  },
  {
   "cell_type": "code",
   "execution_count": null,
   "metadata": {
    "id": "OzuDPpi35jSW"
   },
   "outputs": [],
   "source": [
    "text_clf.fit(X_train, y_train)"
   ]
  },
  {
   "cell_type": "code",
   "execution_count": null,
   "metadata": {
    "id": "U4WK7EFR5jOI"
   },
   "outputs": [],
   "source": [
    "y_pred=text_clf.predict(X_test)"
   ]
  },
  {
   "cell_type": "code",
   "execution_count": null,
   "metadata": {
    "id": "vENjrdWB5jLg"
   },
   "outputs": [],
   "source": [
    "print(metrics.classification_report(y_test,y_pred))"
   ]
  },
  {
   "cell_type": "code",
   "execution_count": null,
   "metadata": {
    "id": "l94kreHH5xI7"
   },
   "outputs": [],
   "source": [
    "cv_results = cross_val_score(text_clf, \n",
    "                                 X_train, y_train, \n",
    "                                 cv=5,\n",
    "                                 scoring=\"accuracy\",\n",
    "                                 n_jobs=-1)"
   ]
  },
  {
   "cell_type": "code",
   "execution_count": null,
   "metadata": {
    "id": "SM73cADZ5xFX"
   },
   "outputs": [],
   "source": [
    "print(np.mean(cv_results))"
   ]
  },
  {
   "cell_type": "code",
   "execution_count": null,
   "metadata": {
    "id": "FZtnaa4g50Uf"
   },
   "outputs": [],
   "source": []
  },
  {
   "cell_type": "markdown",
   "metadata": {
    "id": "F1vcGt5PIHSz"
   },
   "source": [
    "### Hyperparameter Tuning"
   ]
  },
  {
   "cell_type": "code",
   "execution_count": null,
   "metadata": {
    "id": "kMdTK1k6NzSq"
   },
   "outputs": [],
   "source": [
    "from sklearn.model_selection import RandomizedSearchCV,GridSearchCV"
   ]
  },
  {
   "cell_type": "code",
   "execution_count": null,
   "metadata": {
    "id": "kSAmb5lnz9qo"
   },
   "outputs": [],
   "source": [
    "#Randomized Search CV\n",
    "import numpy as np\n",
    "n_estimators = [int(x) for x in np.linspace(start = 100, stop = 1200, num = 12)]\n",
    "max_features = ['auto', 'sqrt']\n",
    "max_depth = [int(x) for x in np.linspace(5, 30, num = 6)]\n",
    "min_samples_split = [2, 5, 10, 15, 100]\n",
    "min_samples_leaf = [1, 2, 5, 10]"
   ]
  },
  {
   "cell_type": "code",
   "execution_count": null,
   "metadata": {
    "id": "3kOAabZpM2H3"
   },
   "outputs": [],
   "source": [
    "random_grid = {'n_estimators': n_estimators,\n",
    "               'max_features': max_features,\n",
    "               'max_depth': max_depth,\n",
    "               'min_samples_split': min_samples_split,\n",
    "               'min_samples_leaf': min_samples_leaf}\n",
    "\n",
    "print(random_grid)"
   ]
  },
  {
   "cell_type": "code",
   "execution_count": null,
   "metadata": {
    "id": "5WwgzlYuM5wd"
   },
   "outputs": [],
   "source": [
    "from sklearn.ensemble import RandomForestClassifier\n",
    "rf = RandomForestClassifier()"
   ]
  },
  {
   "cell_type": "code",
   "execution_count": null,
   "metadata": {
    "id": "h7eqjBcKM_9L"
   },
   "outputs": [],
   "source": [
    "# Use the random grid to search for best hyperparameters\n",
    "rf=RandomizedSearchCV(estimator = rf, param_distributions = random_grid,scoring='accuracy', n_iter = 10, cv = 5,n_jobs=-1)"
   ]
  },
  {
   "cell_type": "code",
   "execution_count": null,
   "metadata": {
    "id": "6QvF3LWXNHl3"
   },
   "outputs": [],
   "source": [
    "rf.fit(X_train_tfidf, y_train)"
   ]
  },
  {
   "cell_type": "code",
   "execution_count": null,
   "metadata": {
    "id": "JBavysZr-YLb"
   },
   "outputs": [],
   "source": [
    "rf.best_params_"
   ]
  },
  {
   "cell_type": "code",
   "execution_count": null,
   "metadata": {
    "id": "DV0oyoVS-caZ"
   },
   "outputs": [],
   "source": [
    "rf.best_score_"
   ]
  },
  {
   "cell_type": "code",
   "execution_count": null,
   "metadata": {
    "id": "e7-hJUUlMGvn"
   },
   "outputs": [],
   "source": []
  },
  {
   "cell_type": "code",
   "execution_count": null,
   "metadata": {
    "id": "swaoIbiDMGjW"
   },
   "outputs": [],
   "source": [
    "from scipy.stats import uniform, randint"
   ]
  },
  {
   "cell_type": "code",
   "execution_count": null,
   "metadata": {
    "id": "sIDtnHxUMGZC"
   },
   "outputs": [],
   "source": [
    "xgb=XGBClassifier()"
   ]
  },
  {
   "cell_type": "code",
   "execution_count": null,
   "metadata": {
    "id": "zrF-Hkww9lVK"
   },
   "outputs": [],
   "source": [
    "params = {\n",
    "    \"gamma\": uniform(0, 0.5),\n",
    "    \"learning_rate\": uniform(0.03, 0.3), # default 0.1 \n",
    "    \"max_depth\": randint(2, 6), # default 3\n",
    "    \"n_estimators\": randint(100, 150), # default 100\n",
    "    \"subsample\": uniform(0.6, 0.4)\n",
    "}"
   ]
  },
  {
   "cell_type": "code",
   "execution_count": null,
   "metadata": {
    "id": "aIapH4kA9wV2"
   },
   "outputs": [],
   "source": [
    "xgb = RandomizedSearchCV(estimator = xgb, param_distributions = params,scoring='accuracy', n_iter = 10, cv = 5, n_jobs = -1)"
   ]
  },
  {
   "cell_type": "code",
   "execution_count": null,
   "metadata": {
    "id": "qnXD7Mud9wTA"
   },
   "outputs": [],
   "source": [
    "xgb.fit(X_train_tfidf, y_train)"
   ]
  },
  {
   "cell_type": "code",
   "execution_count": null,
   "metadata": {
    "id": "0zNh_Y0z91Xw"
   },
   "outputs": [],
   "source": [
    "xgb.best_params_"
   ]
  },
  {
   "cell_type": "code",
   "execution_count": null,
   "metadata": {
    "id": "74iwXah991Uz"
   },
   "outputs": [],
   "source": [
    "xgb.best_score_"
   ]
  },
  {
   "cell_type": "code",
   "execution_count": null,
   "metadata": {
    "id": "Iyc8_DoS-Dza"
   },
   "outputs": [],
   "source": []
  },
  {
   "cell_type": "code",
   "execution_count": null,
   "metadata": {
    "id": "HeGbzgSlICNv"
   },
   "outputs": [],
   "source": []
  },
  {
   "cell_type": "markdown",
   "metadata": {
    "id": "GACrEnrRIA-8"
   },
   "source": [
    "### Stacking Classifier"
   ]
  },
  {
   "cell_type": "code",
   "execution_count": null,
   "metadata": {
    "id": "uNGIVBgbPZdV"
   },
   "outputs": [],
   "source": [
    "from sklearn.ensemble import StackingClassifier\n",
    "estimators = [('rf', rf), ('mb', mb),('ab',XGBClassifier())]\n",
    "\n",
    "clf = StackingClassifier(estimators=estimators)"
   ]
  },
  {
   "cell_type": "code",
   "execution_count": null,
   "metadata": {
    "id": "ar-ngWs1D4DE"
   },
   "outputs": [],
   "source": [
    "clf.fit(X_train_tfidf, y_train)"
   ]
  },
  {
   "cell_type": "code",
   "execution_count": null,
   "metadata": {
    "id": "IcpagjK8D_Tp"
   },
   "outputs": [],
   "source": [
    "cv_results = cross_val_score(clf, \n",
    "                                 X_train_tfidf, y_train, \n",
    "                                 cv=5,\n",
    "                                 scoring=\"accuracy\",\n",
    "                                 n_jobs=-1)\n",
    "print(np.mean(cv_results))"
   ]
  },
  {
   "cell_type": "code",
   "execution_count": null,
   "metadata": {
    "id": "p7Go5U14ETbP"
   },
   "outputs": [],
   "source": []
  }
 ],
 "metadata": {
  "colab": {
   "name": "Consumer Complaint Classification.ipynb",
   "provenance": []
  },
  "kernelspec": {
   "display_name": "Python 3",
   "language": "python",
   "name": "python3"
  },
  "language_info": {
   "codemirror_mode": {
    "name": "ipython",
    "version": 3
   },
   "file_extension": ".py",
   "mimetype": "text/x-python",
   "name": "python",
   "nbconvert_exporter": "python",
   "pygments_lexer": "ipython3",
   "version": "3.8.8"
  }
 },
 "nbformat": 4,
 "nbformat_minor": 1
}
